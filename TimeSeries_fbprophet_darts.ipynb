{
 "cells": [
  {
   "cell_type": "code",
   "execution_count": 1,
   "metadata": {
    "id": "OhOUGt4GAJit"
   },
   "outputs": [],
   "source": [
    "from time import time"
   ]
  },
  {
   "cell_type": "code",
   "execution_count": 2,
   "metadata": {
    "id": "jRqlVdnrfHXH"
   },
   "outputs": [],
   "source": [
    "# from fbprophet.diagnostics\n",
    "from prophet import Prophet"
   ]
  },
  {
   "cell_type": "code",
   "execution_count": 3,
   "metadata": {
    "id": "kgc-_zyM7b5A"
   },
   "outputs": [],
   "source": [
    "# pip install git+https://github.com/stan-dev/pystan2.git@master"
   ]
  },
  {
   "cell_type": "code",
   "execution_count": 4,
   "metadata": {
    "id": "NustCEcAflHd"
   },
   "outputs": [],
   "source": [
    "# from prophet import Cro"
   ]
  },
  {
   "cell_type": "code",
   "execution_count": 5,
   "metadata": {
    "id": "tzvpef6VhiMi"
   },
   "outputs": [],
   "source": [
    "# from prophet import ParameterGrid"
   ]
  },
  {
   "cell_type": "code",
   "execution_count": 6,
   "metadata": {
    "colab": {
     "base_uri": "https://localhost:8080/"
    },
    "id": "IoRy2tlIiHbv",
    "outputId": "00f8ca5e-0492-4c45-9e96-10f0bd46409b"
   },
   "outputs": [],
   "source": [
    "# !pip install darts"
   ]
  },
  {
   "cell_type": "code",
   "execution_count": null,
   "metadata": {
    "id": "0uILiEmDAMYn"
   },
   "outputs": [],
   "source": []
  },
  {
   "cell_type": "code",
   "execution_count": 7,
   "metadata": {
    "id": "E_vqe-9FiKgo"
   },
   "outputs": [],
   "source": [
    "# from darts import TimeSeries"
   ]
  },
  {
   "cell_type": "code",
   "execution_count": 8,
   "metadata": {
    "id": "rUJaRxBuisO3"
   },
   "outputs": [],
   "source": [
    "# from darts.models import ExponentialSmoothing"
   ]
  },
  {
   "cell_type": "code",
   "execution_count": 9,
   "metadata": {
    "id": "HmFBPPdpjPg1"
   },
   "outputs": [],
   "source": [
    "# from darts.models import Prophet"
   ]
  },
  {
   "cell_type": "code",
   "execution_count": 3,
   "metadata": {
    "id": "8YUY4GCPAoZM"
   },
   "outputs": [],
   "source": [
    "import pandas as pd\n",
    "import numpy as np"
   ]
  },
  {
   "cell_type": "code",
   "execution_count": 4,
   "metadata": {
    "id": "6v7PNAG-Ia6Q"
   },
   "outputs": [],
   "source": [
    "import matplotlib\n",
    "import time\n",
    "import warnings\n",
    "warnings.filterwarnings(\"ignore\")\n",
    "import seaborn as sns\n",
    "import matplotlib.pyplot as plt\n",
    "from datetime import datetime\n",
    "import os\n",
    "import plotly.express as px"
   ]
  },
  {
   "cell_type": "code",
   "execution_count": 5,
   "metadata": {
    "colab": {
     "base_uri": "https://localhost:8080/",
     "height": 73
    },
    "id": "UYzBrwUhBgW2",
    "outputId": "d873df27-c4ca-4235-c7fd-69e6898ea9bd",
    "scrolled": true
   },
   "outputs": [],
   "source": [
    "# from google.colab import files\n",
    "# uploaded = files.upload()"
   ]
  },
  {
   "cell_type": "code",
   "execution_count": 6,
   "metadata": {},
   "outputs": [],
   "source": [
    "data_1 = pd.read_csv(\"C:\\\\Users\\\\bahirwal\\\\Desktop\\\\Balaji\\\\Analyst\\\\Time_series\\\\BRICS_data.csv\")"
   ]
  },
  {
   "cell_type": "markdown",
   "metadata": {
    "id": "ikGCe0OtAr53"
   },
   "source": [
    "# New Section"
   ]
  },
  {
   "cell_type": "code",
   "execution_count": 7,
   "metadata": {
    "colab": {
     "base_uri": "https://localhost:8080/",
     "height": 206
    },
    "id": "apCCb3RwEKCR",
    "outputId": "dd223ce6-7ef9-4982-f65a-0c523cab577f"
   },
   "outputs": [
    {
     "data": {
      "text/html": [
       "<div>\n",
       "<style scoped>\n",
       "    .dataframe tbody tr th:only-of-type {\n",
       "        vertical-align: middle;\n",
       "    }\n",
       "\n",
       "    .dataframe tbody tr th {\n",
       "        vertical-align: top;\n",
       "    }\n",
       "\n",
       "    .dataframe thead th {\n",
       "        text-align: right;\n",
       "    }\n",
       "</style>\n",
       "<table border=\"1\" class=\"dataframe\">\n",
       "  <thead>\n",
       "    <tr style=\"text-align: right;\">\n",
       "      <th></th>\n",
       "      <th>country_name</th>\n",
       "      <th>year</th>\n",
       "      <th>value</th>\n",
       "    </tr>\n",
       "  </thead>\n",
       "  <tbody>\n",
       "    <tr>\n",
       "      <th>0</th>\n",
       "      <td>India</td>\n",
       "      <td>1960</td>\n",
       "      <td>3.702988e+10</td>\n",
       "    </tr>\n",
       "    <tr>\n",
       "      <th>1</th>\n",
       "      <td>India</td>\n",
       "      <td>1961</td>\n",
       "      <td>3.923244e+10</td>\n",
       "    </tr>\n",
       "    <tr>\n",
       "      <th>2</th>\n",
       "      <td>India</td>\n",
       "      <td>1962</td>\n",
       "      <td>4.216148e+10</td>\n",
       "    </tr>\n",
       "    <tr>\n",
       "      <th>3</th>\n",
       "      <td>India</td>\n",
       "      <td>1963</td>\n",
       "      <td>4.842192e+10</td>\n",
       "    </tr>\n",
       "    <tr>\n",
       "      <th>4</th>\n",
       "      <td>India</td>\n",
       "      <td>1964</td>\n",
       "      <td>5.648029e+10</td>\n",
       "    </tr>\n",
       "  </tbody>\n",
       "</table>\n",
       "</div>"
      ],
      "text/plain": [
       "  country_name  year         value\n",
       "0        India  1960  3.702988e+10\n",
       "1        India  1961  3.923244e+10\n",
       "2        India  1962  4.216148e+10\n",
       "3        India  1963  4.842192e+10\n",
       "4        India  1964  5.648029e+10"
      ]
     },
     "execution_count": 7,
     "metadata": {},
     "output_type": "execute_result"
    }
   ],
   "source": [
    "#import io\n",
    "#data_1 = pd.read_csv(io.BytesIO(uploaded['BRICS_data.csv']))\n",
    "data_1.head()"
   ]
  },
  {
   "cell_type": "code",
   "execution_count": 8,
   "metadata": {
    "colab": {
     "base_uri": "https://localhost:8080/"
    },
    "id": "-9v1wiXsEh8n",
    "outputId": "4a57db12-cc4b-4b59-83d9-a1c341ed0961"
   },
   "outputs": [
    {
     "data": {
      "text/plain": [
       "(287, 3)"
      ]
     },
     "execution_count": 8,
     "metadata": {},
     "output_type": "execute_result"
    }
   ],
   "source": [
    "data_1.shape"
   ]
  },
  {
   "cell_type": "code",
   "execution_count": 9,
   "metadata": {
    "colab": {
     "base_uri": "https://localhost:8080/"
    },
    "id": "pabEP_ZIQ2il",
    "outputId": "770252e1-e317-4e4e-cb30-1b3fc93f8b38"
   },
   "outputs": [
    {
     "name": "stdout",
     "output_type": "stream",
     "text": [
      "True\n"
     ]
    }
   ],
   "source": [
    "is_range_index = isinstance(data_1.index, pd.RangeIndex)\n",
    "print(is_range_index)"
   ]
  },
  {
   "cell_type": "code",
   "execution_count": 10,
   "metadata": {
    "colab": {
     "base_uri": "https://localhost:8080/"
    },
    "id": "s4F3EVAFiiRk",
    "outputId": "676e0cfe-8885-492e-da0c-e70009aae649"
   },
   "outputs": [
    {
     "data": {
      "text/plain": [
       "country_name\n",
       "India                 63\n",
       "Brazil                63\n",
       "China                 63\n",
       "South Africa          63\n",
       "Russian Federation    35\n",
       "Name: count, dtype: int64"
      ]
     },
     "execution_count": 10,
     "metadata": {},
     "output_type": "execute_result"
    }
   ],
   "source": [
    "data_1['country_name'].value_counts()"
   ]
  },
  {
   "cell_type": "code",
   "execution_count": 11,
   "metadata": {
    "colab": {
     "base_uri": "https://localhost:8080/"
    },
    "id": "VDaUfCOblDgL",
    "outputId": "c103ee64-fbd4-4532-e261-19a4df9c9ee1"
   },
   "outputs": [
    {
     "data": {
      "text/plain": [
       "year\n",
       "1991    5\n",
       "2007    5\n",
       "1994    5\n",
       "1995    5\n",
       "1996    5\n",
       "       ..\n",
       "1984    4\n",
       "1985    4\n",
       "1986    4\n",
       "1987    4\n",
       "1960    4\n",
       "Name: count, Length: 63, dtype: int64"
      ]
     },
     "execution_count": 11,
     "metadata": {},
     "output_type": "execute_result"
    }
   ],
   "source": [
    "data_1['year'].value_counts()"
   ]
  },
  {
   "cell_type": "code",
   "execution_count": 12,
   "metadata": {
    "id": "k638FUL5SaVu"
   },
   "outputs": [],
   "source": [
    "time_1 = data_1.copy()"
   ]
  },
  {
   "cell_type": "code",
   "execution_count": 13,
   "metadata": {
    "colab": {
     "base_uri": "https://localhost:8080/"
    },
    "id": "qeyfeqV2624t",
    "outputId": "8dd3f4b7-aa49-4353-da05-2f7efe079946"
   },
   "outputs": [
    {
     "data": {
      "text/plain": [
       "country_name     object\n",
       "year              int64\n",
       "value           float64\n",
       "dtype: object"
      ]
     },
     "execution_count": 13,
     "metadata": {},
     "output_type": "execute_result"
    }
   ],
   "source": [
    "time_1.dtypes"
   ]
  },
  {
   "cell_type": "code",
   "execution_count": 14,
   "metadata": {
    "id": "VumgGFvt568x"
   },
   "outputs": [],
   "source": [
    "time_1['year'] = pd.to_datetime(time_1['year'], format='%Y')"
   ]
  },
  {
   "cell_type": "code",
   "execution_count": 15,
   "metadata": {
    "colab": {
     "base_uri": "https://localhost:8080/",
     "height": 676
    },
    "id": "wi0wxe8a6Abk",
    "outputId": "7f1cdd8f-ae01-4e39-b898-b092d880cf8f"
   },
   "outputs": [
    {
     "data": {
      "text/html": [
       "<div>\n",
       "<style scoped>\n",
       "    .dataframe tbody tr th:only-of-type {\n",
       "        vertical-align: middle;\n",
       "    }\n",
       "\n",
       "    .dataframe tbody tr th {\n",
       "        vertical-align: top;\n",
       "    }\n",
       "\n",
       "    .dataframe thead th {\n",
       "        text-align: right;\n",
       "    }\n",
       "</style>\n",
       "<table border=\"1\" class=\"dataframe\">\n",
       "  <thead>\n",
       "    <tr style=\"text-align: right;\">\n",
       "      <th></th>\n",
       "      <th>country_name</th>\n",
       "      <th>year</th>\n",
       "      <th>value</th>\n",
       "    </tr>\n",
       "  </thead>\n",
       "  <tbody>\n",
       "    <tr>\n",
       "      <th>267</th>\n",
       "      <td>South Africa</td>\n",
       "      <td>2003-01-01</td>\n",
       "      <td>1.970000e+11</td>\n",
       "    </tr>\n",
       "    <tr>\n",
       "      <th>268</th>\n",
       "      <td>South Africa</td>\n",
       "      <td>2004-01-01</td>\n",
       "      <td>2.560000e+11</td>\n",
       "    </tr>\n",
       "    <tr>\n",
       "      <th>269</th>\n",
       "      <td>South Africa</td>\n",
       "      <td>2005-01-01</td>\n",
       "      <td>2.890000e+11</td>\n",
       "    </tr>\n",
       "    <tr>\n",
       "      <th>270</th>\n",
       "      <td>South Africa</td>\n",
       "      <td>2006-01-01</td>\n",
       "      <td>3.040000e+11</td>\n",
       "    </tr>\n",
       "    <tr>\n",
       "      <th>271</th>\n",
       "      <td>South Africa</td>\n",
       "      <td>2007-01-01</td>\n",
       "      <td>3.330000e+11</td>\n",
       "    </tr>\n",
       "    <tr>\n",
       "      <th>272</th>\n",
       "      <td>South Africa</td>\n",
       "      <td>2008-01-01</td>\n",
       "      <td>3.160000e+11</td>\n",
       "    </tr>\n",
       "    <tr>\n",
       "      <th>273</th>\n",
       "      <td>South Africa</td>\n",
       "      <td>2009-01-01</td>\n",
       "      <td>3.300000e+11</td>\n",
       "    </tr>\n",
       "    <tr>\n",
       "      <th>274</th>\n",
       "      <td>South Africa</td>\n",
       "      <td>2010-01-01</td>\n",
       "      <td>4.170000e+11</td>\n",
       "    </tr>\n",
       "    <tr>\n",
       "      <th>275</th>\n",
       "      <td>South Africa</td>\n",
       "      <td>2011-01-01</td>\n",
       "      <td>4.580000e+11</td>\n",
       "    </tr>\n",
       "    <tr>\n",
       "      <th>276</th>\n",
       "      <td>South Africa</td>\n",
       "      <td>2012-01-01</td>\n",
       "      <td>4.340000e+11</td>\n",
       "    </tr>\n",
       "    <tr>\n",
       "      <th>277</th>\n",
       "      <td>South Africa</td>\n",
       "      <td>2013-01-01</td>\n",
       "      <td>4.010000e+11</td>\n",
       "    </tr>\n",
       "    <tr>\n",
       "      <th>278</th>\n",
       "      <td>South Africa</td>\n",
       "      <td>2014-01-01</td>\n",
       "      <td>3.810000e+11</td>\n",
       "    </tr>\n",
       "    <tr>\n",
       "      <th>279</th>\n",
       "      <td>South Africa</td>\n",
       "      <td>2015-01-01</td>\n",
       "      <td>3.470000e+11</td>\n",
       "    </tr>\n",
       "    <tr>\n",
       "      <th>280</th>\n",
       "      <td>South Africa</td>\n",
       "      <td>2016-01-01</td>\n",
       "      <td>3.240000e+11</td>\n",
       "    </tr>\n",
       "    <tr>\n",
       "      <th>281</th>\n",
       "      <td>South Africa</td>\n",
       "      <td>2017-01-01</td>\n",
       "      <td>3.810000e+11</td>\n",
       "    </tr>\n",
       "    <tr>\n",
       "      <th>282</th>\n",
       "      <td>South Africa</td>\n",
       "      <td>2018-01-01</td>\n",
       "      <td>4.040000e+11</td>\n",
       "    </tr>\n",
       "    <tr>\n",
       "      <th>283</th>\n",
       "      <td>South Africa</td>\n",
       "      <td>2019-01-01</td>\n",
       "      <td>3.890000e+11</td>\n",
       "    </tr>\n",
       "    <tr>\n",
       "      <th>284</th>\n",
       "      <td>South Africa</td>\n",
       "      <td>2020-01-01</td>\n",
       "      <td>3.380000e+11</td>\n",
       "    </tr>\n",
       "    <tr>\n",
       "      <th>285</th>\n",
       "      <td>South Africa</td>\n",
       "      <td>2021-01-01</td>\n",
       "      <td>4.190000e+11</td>\n",
       "    </tr>\n",
       "    <tr>\n",
       "      <th>286</th>\n",
       "      <td>South Africa</td>\n",
       "      <td>2022-01-01</td>\n",
       "      <td>4.060000e+11</td>\n",
       "    </tr>\n",
       "  </tbody>\n",
       "</table>\n",
       "</div>"
      ],
      "text/plain": [
       "     country_name       year         value\n",
       "267  South Africa 2003-01-01  1.970000e+11\n",
       "268  South Africa 2004-01-01  2.560000e+11\n",
       "269  South Africa 2005-01-01  2.890000e+11\n",
       "270  South Africa 2006-01-01  3.040000e+11\n",
       "271  South Africa 2007-01-01  3.330000e+11\n",
       "272  South Africa 2008-01-01  3.160000e+11\n",
       "273  South Africa 2009-01-01  3.300000e+11\n",
       "274  South Africa 2010-01-01  4.170000e+11\n",
       "275  South Africa 2011-01-01  4.580000e+11\n",
       "276  South Africa 2012-01-01  4.340000e+11\n",
       "277  South Africa 2013-01-01  4.010000e+11\n",
       "278  South Africa 2014-01-01  3.810000e+11\n",
       "279  South Africa 2015-01-01  3.470000e+11\n",
       "280  South Africa 2016-01-01  3.240000e+11\n",
       "281  South Africa 2017-01-01  3.810000e+11\n",
       "282  South Africa 2018-01-01  4.040000e+11\n",
       "283  South Africa 2019-01-01  3.890000e+11\n",
       "284  South Africa 2020-01-01  3.380000e+11\n",
       "285  South Africa 2021-01-01  4.190000e+11\n",
       "286  South Africa 2022-01-01  4.060000e+11"
      ]
     },
     "execution_count": 15,
     "metadata": {},
     "output_type": "execute_result"
    }
   ],
   "source": [
    "time_1.tail(20)"
   ]
  },
  {
   "cell_type": "code",
   "execution_count": 16,
   "metadata": {
    "colab": {
     "base_uri": "https://localhost:8080/",
     "height": 70
    },
    "id": "Upz5_JOXmcdN",
    "outputId": "71540460-8387-43f3-858a-fb6d1432b115"
   },
   "outputs": [
    {
     "data": {
      "text/plain": [
       "\"# Create a DataFrame with a column containing years from 1960 to 2022\\ndata = {'years': range(1960, 2023)}\\ndf = pd.DataFrame(data)\\n\\n# Convert the 'years' column to datetime with January 1st as the date\\ndf['date'] = pd.to_datetime(df['years'], format='%Y')\\ndf['date'] = df['date'].dt.replace(month=1, day=1)\\n\\n# Print the resulting DataFrame\\nprint(df)\""
      ]
     },
     "execution_count": 16,
     "metadata": {},
     "output_type": "execute_result"
    }
   ],
   "source": [
    "\"\"\"# Create a DataFrame with a column containing years from 1960 to 2022\n",
    "data = {'years': range(1960, 2023)}\n",
    "df = pd.DataFrame(data)\n",
    "\n",
    "# Convert the 'years' column to datetime with January 1st as the date\n",
    "df['date'] = pd.to_datetime(df['years'], format='%Y')\n",
    "df['date'] = df['date'].dt.replace(month=1, day=1)\n",
    "\n",
    "# Print the resulting DataFrame\n",
    "print(df)\"\"\""
   ]
  },
  {
   "cell_type": "code",
   "execution_count": 17,
   "metadata": {
    "id": "xEblpUSJe_4i"
   },
   "outputs": [],
   "source": [
    "# time_1.drop(['Unnamed: 3', 'Unnamed: 4', 'Unnamed: 5','Unnamed: 6', 'Unnamed: 7', 'Unnamed: 8'],axis = 1, inplace = True)"
   ]
  },
  {
   "cell_type": "code",
   "execution_count": 18,
   "metadata": {
    "id": "ZbR9vHeHfBl9"
   },
   "outputs": [],
   "source": [
    "# Using Boolean mask\n",
    "mask = time_1['country_name']=='Russian Federation'"
   ]
  },
  {
   "cell_type": "code",
   "execution_count": 19,
   "metadata": {
    "id": "HeRGh2ESfBci"
   },
   "outputs": [],
   "source": [
    "time_2 = time_1[~mask]"
   ]
  },
  {
   "cell_type": "code",
   "execution_count": 20,
   "metadata": {
    "colab": {
     "base_uri": "https://localhost:8080/",
     "height": 206
    },
    "id": "cL7ql8fMfBLB",
    "outputId": "52053d78-e6d4-4568-e2f6-4241951ba3e0"
   },
   "outputs": [
    {
     "data": {
      "text/html": [
       "<div>\n",
       "<style scoped>\n",
       "    .dataframe tbody tr th:only-of-type {\n",
       "        vertical-align: middle;\n",
       "    }\n",
       "\n",
       "    .dataframe tbody tr th {\n",
       "        vertical-align: top;\n",
       "    }\n",
       "\n",
       "    .dataframe thead th {\n",
       "        text-align: right;\n",
       "    }\n",
       "</style>\n",
       "<table border=\"1\" class=\"dataframe\">\n",
       "  <thead>\n",
       "    <tr style=\"text-align: right;\">\n",
       "      <th></th>\n",
       "      <th>country_name</th>\n",
       "      <th>year</th>\n",
       "      <th>value</th>\n",
       "    </tr>\n",
       "  </thead>\n",
       "  <tbody>\n",
       "    <tr>\n",
       "      <th>0</th>\n",
       "      <td>India</td>\n",
       "      <td>1960-01-01</td>\n",
       "      <td>3.702988e+10</td>\n",
       "    </tr>\n",
       "    <tr>\n",
       "      <th>1</th>\n",
       "      <td>India</td>\n",
       "      <td>1961-01-01</td>\n",
       "      <td>3.923244e+10</td>\n",
       "    </tr>\n",
       "    <tr>\n",
       "      <th>2</th>\n",
       "      <td>India</td>\n",
       "      <td>1962-01-01</td>\n",
       "      <td>4.216148e+10</td>\n",
       "    </tr>\n",
       "    <tr>\n",
       "      <th>3</th>\n",
       "      <td>India</td>\n",
       "      <td>1963-01-01</td>\n",
       "      <td>4.842192e+10</td>\n",
       "    </tr>\n",
       "    <tr>\n",
       "      <th>4</th>\n",
       "      <td>India</td>\n",
       "      <td>1964-01-01</td>\n",
       "      <td>5.648029e+10</td>\n",
       "    </tr>\n",
       "  </tbody>\n",
       "</table>\n",
       "</div>"
      ],
      "text/plain": [
       "  country_name       year         value\n",
       "0        India 1960-01-01  3.702988e+10\n",
       "1        India 1961-01-01  3.923244e+10\n",
       "2        India 1962-01-01  4.216148e+10\n",
       "3        India 1963-01-01  4.842192e+10\n",
       "4        India 1964-01-01  5.648029e+10"
      ]
     },
     "execution_count": 20,
     "metadata": {},
     "output_type": "execute_result"
    }
   ],
   "source": [
    "time_2.head()"
   ]
  },
  {
   "cell_type": "code",
   "execution_count": 21,
   "metadata": {
    "colab": {
     "base_uri": "https://localhost:8080/"
    },
    "id": "VD_kOQT4UzIR",
    "outputId": "c4ba9d56-4298-4eda-8530-0a5289589221"
   },
   "outputs": [
    {
     "name": "stdout",
     "output_type": "stream",
     "text": [
      "False\n"
     ]
    }
   ],
   "source": [
    "is_range_index_1 = isinstance(time_2.index, pd.RangeIndex)\n",
    "print(is_range_index_1)"
   ]
  },
  {
   "cell_type": "code",
   "execution_count": 22,
   "metadata": {
    "colab": {
     "base_uri": "https://localhost:8080/"
    },
    "id": "93qENSEjSI9h",
    "outputId": "08325417-c93d-48ef-aae6-1879ed416fba"
   },
   "outputs": [
    {
     "data": {
      "text/plain": [
       "country_name\n",
       "India           63\n",
       "Brazil          63\n",
       "China           63\n",
       "South Africa    63\n",
       "Name: count, dtype: int64"
      ]
     },
     "execution_count": 22,
     "metadata": {},
     "output_type": "execute_result"
    }
   ],
   "source": [
    "time_2['country_name'].value_counts()"
   ]
  },
  {
   "cell_type": "code",
   "execution_count": 23,
   "metadata": {
    "colab": {
     "base_uri": "https://localhost:8080/"
    },
    "id": "4ugUnohwiF3R",
    "outputId": "95519d4b-ef50-4e9f-c5ae-5d69cd0ed9df"
   },
   "outputs": [
    {
     "data": {
      "text/plain": [
       "country_name            object\n",
       "year            datetime64[ns]\n",
       "value                  float64\n",
       "dtype: object"
      ]
     },
     "execution_count": 23,
     "metadata": {},
     "output_type": "execute_result"
    }
   ],
   "source": [
    "time_2.dtypes"
   ]
  },
  {
   "cell_type": "code",
   "execution_count": 24,
   "metadata": {
    "id": "9sYbg-lpSsAK"
   },
   "outputs": [],
   "source": [
    "time_2.rename(columns = {'year' : 'date'}, inplace = True)\n",
    "time_2.rename(columns = {'value' : 'y'}, inplace = True)\n",
    "time_2.rename(columns = {'country_name' : 'country'}, inplace = True)"
   ]
  },
  {
   "cell_type": "code",
   "execution_count": 25,
   "metadata": {
    "id": "se00gme88_dZ"
   },
   "outputs": [],
   "source": [
    "time_2['date'] = pd.to_datetime(time_2['date'])\n",
    "time_2['y'] = time_2['y'].astype(float)"
   ]
  },
  {
   "cell_type": "code",
   "execution_count": 26,
   "metadata": {
    "colab": {
     "base_uri": "https://localhost:8080/",
     "height": 206
    },
    "id": "kyf4XegLgtYO",
    "outputId": "09ee1f75-7b0c-4e52-d0ee-71c3889b9dea"
   },
   "outputs": [
    {
     "data": {
      "text/html": [
       "<div>\n",
       "<style scoped>\n",
       "    .dataframe tbody tr th:only-of-type {\n",
       "        vertical-align: middle;\n",
       "    }\n",
       "\n",
       "    .dataframe tbody tr th {\n",
       "        vertical-align: top;\n",
       "    }\n",
       "\n",
       "    .dataframe thead th {\n",
       "        text-align: right;\n",
       "    }\n",
       "</style>\n",
       "<table border=\"1\" class=\"dataframe\">\n",
       "  <thead>\n",
       "    <tr style=\"text-align: right;\">\n",
       "      <th></th>\n",
       "      <th>country</th>\n",
       "      <th>date</th>\n",
       "      <th>y</th>\n",
       "    </tr>\n",
       "  </thead>\n",
       "  <tbody>\n",
       "    <tr>\n",
       "      <th>0</th>\n",
       "      <td>India</td>\n",
       "      <td>1960-01-01</td>\n",
       "      <td>3.702988e+10</td>\n",
       "    </tr>\n",
       "    <tr>\n",
       "      <th>1</th>\n",
       "      <td>India</td>\n",
       "      <td>1961-01-01</td>\n",
       "      <td>3.923244e+10</td>\n",
       "    </tr>\n",
       "    <tr>\n",
       "      <th>2</th>\n",
       "      <td>India</td>\n",
       "      <td>1962-01-01</td>\n",
       "      <td>4.216148e+10</td>\n",
       "    </tr>\n",
       "    <tr>\n",
       "      <th>3</th>\n",
       "      <td>India</td>\n",
       "      <td>1963-01-01</td>\n",
       "      <td>4.842192e+10</td>\n",
       "    </tr>\n",
       "    <tr>\n",
       "      <th>4</th>\n",
       "      <td>India</td>\n",
       "      <td>1964-01-01</td>\n",
       "      <td>5.648029e+10</td>\n",
       "    </tr>\n",
       "  </tbody>\n",
       "</table>\n",
       "</div>"
      ],
      "text/plain": [
       "  country       date             y\n",
       "0   India 1960-01-01  3.702988e+10\n",
       "1   India 1961-01-01  3.923244e+10\n",
       "2   India 1962-01-01  4.216148e+10\n",
       "3   India 1963-01-01  4.842192e+10\n",
       "4   India 1964-01-01  5.648029e+10"
      ]
     },
     "execution_count": 26,
     "metadata": {},
     "output_type": "execute_result"
    }
   ],
   "source": [
    "time_2.head()"
   ]
  },
  {
   "cell_type": "code",
   "execution_count": 27,
   "metadata": {
    "id": "DLLwI7-FSFWM"
   },
   "outputs": [],
   "source": [
    "# Creadting datframe for other purpose"
   ]
  },
  {
   "cell_type": "code",
   "execution_count": 28,
   "metadata": {
    "id": "9vUJAsxfSFOA"
   },
   "outputs": [],
   "source": [
    "time_data = time_2.copy()"
   ]
  },
  {
   "cell_type": "code",
   "execution_count": 29,
   "metadata": {
    "id": "WGtiOk1sZagN"
   },
   "outputs": [],
   "source": [
    "first_col = time_data.pop('date')"
   ]
  },
  {
   "cell_type": "code",
   "execution_count": 30,
   "metadata": {
    "id": "WYKktsqsZcGI"
   },
   "outputs": [],
   "source": [
    "time_data.insert(0, 'date', first_col)"
   ]
  },
  {
   "cell_type": "code",
   "execution_count": 31,
   "metadata": {
    "id": "48TcSJLTZb8m"
   },
   "outputs": [],
   "source": [
    "time_data.set_index('date', inplace = True)"
   ]
  },
  {
   "cell_type": "code",
   "execution_count": 32,
   "metadata": {
    "colab": {
     "base_uri": "https://localhost:8080/",
     "height": 237
    },
    "id": "lnyOI7ZWZbwv",
    "outputId": "83fd4ffa-555c-465e-fc5e-dbf9b1a56ecf"
   },
   "outputs": [
    {
     "data": {
      "text/html": [
       "<div>\n",
       "<style scoped>\n",
       "    .dataframe tbody tr th:only-of-type {\n",
       "        vertical-align: middle;\n",
       "    }\n",
       "\n",
       "    .dataframe tbody tr th {\n",
       "        vertical-align: top;\n",
       "    }\n",
       "\n",
       "    .dataframe thead th {\n",
       "        text-align: right;\n",
       "    }\n",
       "</style>\n",
       "<table border=\"1\" class=\"dataframe\">\n",
       "  <thead>\n",
       "    <tr style=\"text-align: right;\">\n",
       "      <th></th>\n",
       "      <th>country</th>\n",
       "      <th>y</th>\n",
       "    </tr>\n",
       "    <tr>\n",
       "      <th>date</th>\n",
       "      <th></th>\n",
       "      <th></th>\n",
       "    </tr>\n",
       "  </thead>\n",
       "  <tbody>\n",
       "    <tr>\n",
       "      <th>1960-01-01</th>\n",
       "      <td>India</td>\n",
       "      <td>3.702988e+10</td>\n",
       "    </tr>\n",
       "    <tr>\n",
       "      <th>1961-01-01</th>\n",
       "      <td>India</td>\n",
       "      <td>3.923244e+10</td>\n",
       "    </tr>\n",
       "    <tr>\n",
       "      <th>1962-01-01</th>\n",
       "      <td>India</td>\n",
       "      <td>4.216148e+10</td>\n",
       "    </tr>\n",
       "    <tr>\n",
       "      <th>1963-01-01</th>\n",
       "      <td>India</td>\n",
       "      <td>4.842192e+10</td>\n",
       "    </tr>\n",
       "    <tr>\n",
       "      <th>1964-01-01</th>\n",
       "      <td>India</td>\n",
       "      <td>5.648029e+10</td>\n",
       "    </tr>\n",
       "  </tbody>\n",
       "</table>\n",
       "</div>"
      ],
      "text/plain": [
       "           country             y\n",
       "date                            \n",
       "1960-01-01   India  3.702988e+10\n",
       "1961-01-01   India  3.923244e+10\n",
       "1962-01-01   India  4.216148e+10\n",
       "1963-01-01   India  4.842192e+10\n",
       "1964-01-01   India  5.648029e+10"
      ]
     },
     "execution_count": 32,
     "metadata": {},
     "output_type": "execute_result"
    }
   ],
   "source": [
    "time_data.head()"
   ]
  },
  {
   "cell_type": "code",
   "execution_count": 33,
   "metadata": {
    "colab": {
     "base_uri": "https://localhost:8080/"
    },
    "id": "-m_Vaw19Zbjn",
    "outputId": "8b439da2-9996-4d0d-c111-d50a9276792c"
   },
   "outputs": [
    {
     "data": {
      "text/plain": [
       "4"
      ]
     },
     "execution_count": 33,
     "metadata": {},
     "output_type": "execute_result"
    }
   ],
   "source": [
    "time_data.country.nunique()"
   ]
  },
  {
   "cell_type": "code",
   "execution_count": 34,
   "metadata": {
    "colab": {
     "base_uri": "https://localhost:8080/",
     "height": 237
    },
    "id": "3vsgU3jTTOGe",
    "outputId": "0253d71a-3312-467c-c073-bcc0adfae914"
   },
   "outputs": [
    {
     "data": {
      "text/html": [
       "<div>\n",
       "<style scoped>\n",
       "    .dataframe tbody tr th:only-of-type {\n",
       "        vertical-align: middle;\n",
       "    }\n",
       "\n",
       "    .dataframe tbody tr th {\n",
       "        vertical-align: top;\n",
       "    }\n",
       "\n",
       "    .dataframe thead th {\n",
       "        text-align: right;\n",
       "    }\n",
       "</style>\n",
       "<table border=\"1\" class=\"dataframe\">\n",
       "  <thead>\n",
       "    <tr style=\"text-align: right;\">\n",
       "      <th></th>\n",
       "      <th>country</th>\n",
       "      <th>y</th>\n",
       "    </tr>\n",
       "    <tr>\n",
       "      <th>date</th>\n",
       "      <th></th>\n",
       "      <th></th>\n",
       "    </tr>\n",
       "  </thead>\n",
       "  <tbody>\n",
       "    <tr>\n",
       "      <th>2018-01-01</th>\n",
       "      <td>South Africa</td>\n",
       "      <td>4.040000e+11</td>\n",
       "    </tr>\n",
       "    <tr>\n",
       "      <th>2019-01-01</th>\n",
       "      <td>South Africa</td>\n",
       "      <td>3.890000e+11</td>\n",
       "    </tr>\n",
       "    <tr>\n",
       "      <th>2020-01-01</th>\n",
       "      <td>South Africa</td>\n",
       "      <td>3.380000e+11</td>\n",
       "    </tr>\n",
       "    <tr>\n",
       "      <th>2021-01-01</th>\n",
       "      <td>South Africa</td>\n",
       "      <td>4.190000e+11</td>\n",
       "    </tr>\n",
       "    <tr>\n",
       "      <th>2022-01-01</th>\n",
       "      <td>South Africa</td>\n",
       "      <td>4.060000e+11</td>\n",
       "    </tr>\n",
       "  </tbody>\n",
       "</table>\n",
       "</div>"
      ],
      "text/plain": [
       "                 country             y\n",
       "date                                  \n",
       "2018-01-01  South Africa  4.040000e+11\n",
       "2019-01-01  South Africa  3.890000e+11\n",
       "2020-01-01  South Africa  3.380000e+11\n",
       "2021-01-01  South Africa  4.190000e+11\n",
       "2022-01-01  South Africa  4.060000e+11"
      ]
     },
     "execution_count": 34,
     "metadata": {},
     "output_type": "execute_result"
    }
   ],
   "source": [
    "time_data.tail()"
   ]
  },
  {
   "cell_type": "code",
   "execution_count": 35,
   "metadata": {
    "colab": {
     "base_uri": "https://localhost:8080/"
    },
    "id": "CRkh-yaoifqN",
    "outputId": "3cfe3309-feb5-4db7-f20f-caa4b64e89a6"
   },
   "outputs": [
    {
     "data": {
      "text/plain": [
       "country     object\n",
       "y          float64\n",
       "dtype: object"
      ]
     },
     "execution_count": 35,
     "metadata": {},
     "output_type": "execute_result"
    }
   ],
   "source": [
    "time_data.dtypes"
   ]
  },
  {
   "cell_type": "code",
   "execution_count": 36,
   "metadata": {
    "colab": {
     "base_uri": "https://localhost:8080/",
     "height": 707
    },
    "id": "GwVOkzQ7HEBZ",
    "outputId": "103cbeb8-123f-4952-c702-1986d3808248"
   },
   "outputs": [
    {
     "data": {
      "text/html": [
       "<div>\n",
       "<style scoped>\n",
       "    .dataframe tbody tr th:only-of-type {\n",
       "        vertical-align: middle;\n",
       "    }\n",
       "\n",
       "    .dataframe tbody tr th {\n",
       "        vertical-align: top;\n",
       "    }\n",
       "\n",
       "    .dataframe thead th {\n",
       "        text-align: right;\n",
       "    }\n",
       "</style>\n",
       "<table border=\"1\" class=\"dataframe\">\n",
       "  <thead>\n",
       "    <tr style=\"text-align: right;\">\n",
       "      <th></th>\n",
       "      <th>country</th>\n",
       "      <th>y</th>\n",
       "    </tr>\n",
       "    <tr>\n",
       "      <th>date</th>\n",
       "      <th></th>\n",
       "      <th></th>\n",
       "    </tr>\n",
       "  </thead>\n",
       "  <tbody>\n",
       "    <tr>\n",
       "      <th>1960-01-01</th>\n",
       "      <td>Brazil</td>\n",
       "      <td>1.703047e+10</td>\n",
       "    </tr>\n",
       "    <tr>\n",
       "      <th>1961-01-01</th>\n",
       "      <td>Brazil</td>\n",
       "      <td>1.727594e+10</td>\n",
       "    </tr>\n",
       "    <tr>\n",
       "      <th>1962-01-01</th>\n",
       "      <td>Brazil</td>\n",
       "      <td>1.923175e+10</td>\n",
       "    </tr>\n",
       "    <tr>\n",
       "      <th>1963-01-01</th>\n",
       "      <td>Brazil</td>\n",
       "      <td>2.328771e+10</td>\n",
       "    </tr>\n",
       "    <tr>\n",
       "      <th>1964-01-01</th>\n",
       "      <td>Brazil</td>\n",
       "      <td>2.096373e+10</td>\n",
       "    </tr>\n",
       "    <tr>\n",
       "      <th>1960-01-01</th>\n",
       "      <td>China</td>\n",
       "      <td>5.971625e+10</td>\n",
       "    </tr>\n",
       "    <tr>\n",
       "      <th>1961-01-01</th>\n",
       "      <td>China</td>\n",
       "      <td>5.005669e+10</td>\n",
       "    </tr>\n",
       "    <tr>\n",
       "      <th>1962-01-01</th>\n",
       "      <td>China</td>\n",
       "      <td>4.720919e+10</td>\n",
       "    </tr>\n",
       "    <tr>\n",
       "      <th>1963-01-01</th>\n",
       "      <td>China</td>\n",
       "      <td>5.070662e+10</td>\n",
       "    </tr>\n",
       "    <tr>\n",
       "      <th>1964-01-01</th>\n",
       "      <td>China</td>\n",
       "      <td>5.970813e+10</td>\n",
       "    </tr>\n",
       "    <tr>\n",
       "      <th>1960-01-01</th>\n",
       "      <td>India</td>\n",
       "      <td>3.702988e+10</td>\n",
       "    </tr>\n",
       "    <tr>\n",
       "      <th>1961-01-01</th>\n",
       "      <td>India</td>\n",
       "      <td>3.923244e+10</td>\n",
       "    </tr>\n",
       "    <tr>\n",
       "      <th>1962-01-01</th>\n",
       "      <td>India</td>\n",
       "      <td>4.216148e+10</td>\n",
       "    </tr>\n",
       "    <tr>\n",
       "      <th>1963-01-01</th>\n",
       "      <td>India</td>\n",
       "      <td>4.842192e+10</td>\n",
       "    </tr>\n",
       "    <tr>\n",
       "      <th>1964-01-01</th>\n",
       "      <td>India</td>\n",
       "      <td>5.648029e+10</td>\n",
       "    </tr>\n",
       "    <tr>\n",
       "      <th>1960-01-01</th>\n",
       "      <td>South Africa</td>\n",
       "      <td>8.748597e+09</td>\n",
       "    </tr>\n",
       "    <tr>\n",
       "      <th>1961-01-01</th>\n",
       "      <td>South Africa</td>\n",
       "      <td>9.225996e+09</td>\n",
       "    </tr>\n",
       "    <tr>\n",
       "      <th>1962-01-01</th>\n",
       "      <td>South Africa</td>\n",
       "      <td>9.813996e+09</td>\n",
       "    </tr>\n",
       "    <tr>\n",
       "      <th>1963-01-01</th>\n",
       "      <td>South Africa</td>\n",
       "      <td>1.085420e+10</td>\n",
       "    </tr>\n",
       "    <tr>\n",
       "      <th>1964-01-01</th>\n",
       "      <td>South Africa</td>\n",
       "      <td>1.195600e+10</td>\n",
       "    </tr>\n",
       "  </tbody>\n",
       "</table>\n",
       "</div>"
      ],
      "text/plain": [
       "                 country             y\n",
       "date                                  \n",
       "1960-01-01        Brazil  1.703047e+10\n",
       "1961-01-01        Brazil  1.727594e+10\n",
       "1962-01-01        Brazil  1.923175e+10\n",
       "1963-01-01        Brazil  2.328771e+10\n",
       "1964-01-01        Brazil  2.096373e+10\n",
       "1960-01-01         China  5.971625e+10\n",
       "1961-01-01         China  5.005669e+10\n",
       "1962-01-01         China  4.720919e+10\n",
       "1963-01-01         China  5.070662e+10\n",
       "1964-01-01         China  5.970813e+10\n",
       "1960-01-01         India  3.702988e+10\n",
       "1961-01-01         India  3.923244e+10\n",
       "1962-01-01         India  4.216148e+10\n",
       "1963-01-01         India  4.842192e+10\n",
       "1964-01-01         India  5.648029e+10\n",
       "1960-01-01  South Africa  8.748597e+09\n",
       "1961-01-01  South Africa  9.225996e+09\n",
       "1962-01-01  South Africa  9.813996e+09\n",
       "1963-01-01  South Africa  1.085420e+10\n",
       "1964-01-01  South Africa  1.195600e+10"
      ]
     },
     "execution_count": 36,
     "metadata": {},
     "output_type": "execute_result"
    }
   ],
   "source": [
    "time_data.sort_values(['country', 'date']).groupby('country').head()"
   ]
  },
  {
   "cell_type": "code",
   "execution_count": 37,
   "metadata": {
    "colab": {
     "base_uri": "https://localhost:8080/"
    },
    "id": "mDFR71UCEQL0",
    "outputId": "1cab77b4-abc8-4d2f-8bce-f025bc2e0ace"
   },
   "outputs": [
    {
     "data": {
      "text/plain": [
       "pandas.core.frame.DataFrame"
      ]
     },
     "execution_count": 37,
     "metadata": {},
     "output_type": "execute_result"
    }
   ],
   "source": [
    "type(time_data)"
   ]
  },
  {
   "cell_type": "code",
   "execution_count": 45,
   "metadata": {
    "colab": {
     "base_uri": "https://localhost:8080/"
    },
    "id": "EuvmdOvdr8gL",
    "outputId": "d163447d-a596-4437-cfd7-691ed9af5dcd"
   },
   "outputs": [
    {
     "name": "stdout",
     "output_type": "stream",
     "text": [
      "False\n"
     ]
    }
   ],
   "source": [
    "is_range_index_df1 = isinstance(time_data.index, pd.RangeIndex)\n",
    "print(is_range_index_df1)"
   ]
  },
  {
   "cell_type": "code",
   "execution_count": 46,
   "metadata": {
    "id": "0D63kLo-cu5j"
   },
   "outputs": [],
   "source": [
    "# dataframe for plotting data"
   ]
  },
  {
   "cell_type": "code",
   "execution_count": 38,
   "metadata": {
    "colab": {
     "base_uri": "https://localhost:8080/",
     "height": 237
    },
    "id": "bDdx-x7I-qEP",
    "outputId": "7dd3192f-ee18-448f-c521-de7feb4179b5"
   },
   "outputs": [
    {
     "data": {
      "text/html": [
       "<div>\n",
       "<style scoped>\n",
       "    .dataframe tbody tr th:only-of-type {\n",
       "        vertical-align: middle;\n",
       "    }\n",
       "\n",
       "    .dataframe tbody tr th {\n",
       "        vertical-align: top;\n",
       "    }\n",
       "\n",
       "    .dataframe thead th {\n",
       "        text-align: right;\n",
       "    }\n",
       "</style>\n",
       "<table border=\"1\" class=\"dataframe\">\n",
       "  <thead>\n",
       "    <tr style=\"text-align: right;\">\n",
       "      <th>country</th>\n",
       "      <th>Brazil</th>\n",
       "      <th>China</th>\n",
       "      <th>India</th>\n",
       "      <th>South Africa</th>\n",
       "    </tr>\n",
       "    <tr>\n",
       "      <th>date</th>\n",
       "      <th></th>\n",
       "      <th></th>\n",
       "      <th></th>\n",
       "      <th></th>\n",
       "    </tr>\n",
       "  </thead>\n",
       "  <tbody>\n",
       "    <tr>\n",
       "      <th>1960-01-01</th>\n",
       "      <td>1.703047e+10</td>\n",
       "      <td>5.971625e+10</td>\n",
       "      <td>3.702988e+10</td>\n",
       "      <td>8.748597e+09</td>\n",
       "    </tr>\n",
       "    <tr>\n",
       "      <th>1961-01-01</th>\n",
       "      <td>1.727594e+10</td>\n",
       "      <td>5.005669e+10</td>\n",
       "      <td>3.923244e+10</td>\n",
       "      <td>9.225996e+09</td>\n",
       "    </tr>\n",
       "    <tr>\n",
       "      <th>1962-01-01</th>\n",
       "      <td>1.923175e+10</td>\n",
       "      <td>4.720919e+10</td>\n",
       "      <td>4.216148e+10</td>\n",
       "      <td>9.813996e+09</td>\n",
       "    </tr>\n",
       "    <tr>\n",
       "      <th>1963-01-01</th>\n",
       "      <td>2.328771e+10</td>\n",
       "      <td>5.070662e+10</td>\n",
       "      <td>4.842192e+10</td>\n",
       "      <td>1.085420e+10</td>\n",
       "    </tr>\n",
       "    <tr>\n",
       "      <th>1964-01-01</th>\n",
       "      <td>2.096373e+10</td>\n",
       "      <td>5.970813e+10</td>\n",
       "      <td>5.648029e+10</td>\n",
       "      <td>1.195600e+10</td>\n",
       "    </tr>\n",
       "  </tbody>\n",
       "</table>\n",
       "</div>"
      ],
      "text/plain": [
       "country           Brazil         China         India  South Africa\n",
       "date                                                              \n",
       "1960-01-01  1.703047e+10  5.971625e+10  3.702988e+10  8.748597e+09\n",
       "1961-01-01  1.727594e+10  5.005669e+10  3.923244e+10  9.225996e+09\n",
       "1962-01-01  1.923175e+10  4.720919e+10  4.216148e+10  9.813996e+09\n",
       "1963-01-01  2.328771e+10  5.070662e+10  4.842192e+10  1.085420e+10\n",
       "1964-01-01  2.096373e+10  5.970813e+10  5.648029e+10  1.195600e+10"
      ]
     },
     "execution_count": 38,
     "metadata": {},
     "output_type": "execute_result"
    }
   ],
   "source": [
    "# Changing dat structure to pivot table solves the problem\n",
    "time_3 = time_2.pivot(index = 'date', columns = 'country', values = 'y')\n",
    "time_3.head()"
   ]
  },
  {
   "cell_type": "code",
   "execution_count": 39,
   "metadata": {
    "colab": {
     "base_uri": "https://localhost:8080/",
     "height": 478
    },
    "id": "AGO_i3AsAyjL",
    "outputId": "fa2313c6-6f3d-41ab-a283-b4e7a32874a0"
   },
   "outputs": [
    {
     "data": {
      "image/png": "[encoded data removed]",
      "text/plain": [
       "<Figure size 1000x500 with 1 Axes>"
      ]
     },
     "metadata": {},
     "output_type": "display_data"
    }
   ],
   "source": [
    "plt.figure(figsize = (10, 5))\n",
    "time_3.plot(ax = plt.gca())\n",
    "plt.xlabel('Year')\n",
    "plt.ylabel('GDP(10 trillion)')\n",
    "plt.legend(title = 'country')\n",
    "plt.show()"
   ]
  },
  {
   "cell_type": "code",
   "execution_count": 40,
   "metadata": {
    "colab": {
     "base_uri": "https://localhost:8080/",
     "height": 1000
    },
    "id": "YgFwxuS7FH9Y",
    "outputId": "c55b5657-2a75-49d3-8752-6f1b888ad077"
   },
   "outputs": [
    {
     "data": {
      "image/png": "[encoded data removed]",
      "text/plain": [
       "<Figure size 600x1200 with 4 Axes>"
      ]
     },
     "metadata": {},
     "output_type": "display_data"
    }
   ],
   "source": [
    "# below graphs show a continuous trend but seasonality is absent(OR hidden)\n",
    "countries = time_2['country'].unique()\n",
    "\n",
    "# Create a subplot for each country\n",
    "fig, axs = plt.subplots(len(countries), figsize=(6, 3 * len(countries)), sharex=True)\n",
    "\n",
    "# Plot each country's time series in a separate subplot\n",
    "for i, country in enumerate(countries):\n",
    "    country_data = time_2[time_2['country'] == country]\n",
    "    axs[i].plot(country_data['date'], country_data['y'])\n",
    "    axs[i].set_title(country)\n",
    "    axs[i].set_xlabel('Date')\n",
    "    axs[i].set_ylabel('Value of Time Series')\n",
    "\n",
    "plt.tight_layout()\n",
    "plt.show()"
   ]
  },
  {
   "cell_type": "code",
   "execution_count": 41,
   "metadata": {
    "colab": {
     "base_uri": "https://localhost:8080/",
     "height": 52
    },
    "id": "6sYW7BjHFzfr",
    "outputId": "a58fdb2e-9d63-42ce-d1ec-4c3295c0df0f"
   },
   "outputs": [
    {
     "data": {
      "text/plain": [
       "\"# Plot timeseries for individual countries\\nbrazil_data = time_2[time_2['country'] == 'Brazil']\\nplt.figure(figsize = (10, 5))\\nplt.plot(brazil_data['date'], brazil_data['y'])\\nplt.xlabel('year')\\nplt.ylabel('GDP(trillion)')\""
      ]
     },
     "execution_count": 41,
     "metadata": {},
     "output_type": "execute_result"
    }
   ],
   "source": [
    "\"\"\"# Plot timeseries for individual countries\n",
    "brazil_data = time_2[time_2['country'] == 'Brazil']\n",
    "plt.figure(figsize = (10, 5))\n",
    "plt.plot(brazil_data['date'], brazil_data['y'])\n",
    "plt.xlabel('year')\n",
    "plt.ylabel('GDP(trillion)')\"\"\""
   ]
  },
  {
   "cell_type": "code",
   "execution_count": 42,
   "metadata": {
    "colab": {
     "base_uri": "https://localhost:8080/",
     "height": 206
    },
    "id": "HbiWS6nYoFfv",
    "outputId": "243b9a9a-5482-4890-eb9c-6f96736b23c4"
   },
   "outputs": [
    {
     "data": {
      "text/html": [
       "<div>\n",
       "<style scoped>\n",
       "    .dataframe tbody tr th:only-of-type {\n",
       "        vertical-align: middle;\n",
       "    }\n",
       "\n",
       "    .dataframe tbody tr th {\n",
       "        vertical-align: top;\n",
       "    }\n",
       "\n",
       "    .dataframe thead th {\n",
       "        text-align: right;\n",
       "    }\n",
       "</style>\n",
       "<table border=\"1\" class=\"dataframe\">\n",
       "  <thead>\n",
       "    <tr style=\"text-align: right;\">\n",
       "      <th></th>\n",
       "      <th>country</th>\n",
       "      <th>date</th>\n",
       "      <th>y</th>\n",
       "    </tr>\n",
       "  </thead>\n",
       "  <tbody>\n",
       "    <tr>\n",
       "      <th>0</th>\n",
       "      <td>India</td>\n",
       "      <td>1960-01-01</td>\n",
       "      <td>3.702988e+10</td>\n",
       "    </tr>\n",
       "    <tr>\n",
       "      <th>1</th>\n",
       "      <td>India</td>\n",
       "      <td>1961-01-01</td>\n",
       "      <td>3.923244e+10</td>\n",
       "    </tr>\n",
       "    <tr>\n",
       "      <th>2</th>\n",
       "      <td>India</td>\n",
       "      <td>1962-01-01</td>\n",
       "      <td>4.216148e+10</td>\n",
       "    </tr>\n",
       "    <tr>\n",
       "      <th>3</th>\n",
       "      <td>India</td>\n",
       "      <td>1963-01-01</td>\n",
       "      <td>4.842192e+10</td>\n",
       "    </tr>\n",
       "    <tr>\n",
       "      <th>4</th>\n",
       "      <td>India</td>\n",
       "      <td>1964-01-01</td>\n",
       "      <td>5.648029e+10</td>\n",
       "    </tr>\n",
       "  </tbody>\n",
       "</table>\n",
       "</div>"
      ],
      "text/plain": [
       "  country       date             y\n",
       "0   India 1960-01-01  3.702988e+10\n",
       "1   India 1961-01-01  3.923244e+10\n",
       "2   India 1962-01-01  4.216148e+10\n",
       "3   India 1963-01-01  4.842192e+10\n",
       "4   India 1964-01-01  5.648029e+10"
      ]
     },
     "execution_count": 42,
     "metadata": {},
     "output_type": "execute_result"
    }
   ],
   "source": [
    "# FbProphet model\n",
    "time_4 = time_2.copy()\n",
    "time_4.head()"
   ]
  },
  {
   "cell_type": "code",
   "execution_count": 43,
   "metadata": {
    "id": "wF2rw4MlTm1g"
   },
   "outputs": [],
   "source": [
    "time_4.rename(columns = {'date' : 'ds'}, inplace = True)"
   ]
  },
  {
   "cell_type": "code",
   "execution_count": 44,
   "metadata": {
    "colab": {
     "base_uri": "https://localhost:8080/"
    },
    "id": "U3JYlmuasOVK",
    "outputId": "1013080f-0157-4c08-9913-e6d16ca5d64f"
   },
   "outputs": [
    {
     "name": "stdout",
     "output_type": "stream",
     "text": [
      "False\n"
     ]
    }
   ],
   "source": [
    "is_range_index_df2 = isinstance(time_4.index, pd.RangeIndex)\n",
    "print(is_range_index_df2)"
   ]
  },
  {
   "cell_type": "code",
   "execution_count": 45,
   "metadata": {
    "colab": {
     "base_uri": "https://localhost:8080/"
    },
    "id": "za-_2SRfWT5o",
    "outputId": "69eb1810-124a-45cb-8edd-efec72b70738"
   },
   "outputs": [
    {
     "data": {
      "text/plain": [
       "Index([  0,   1,   2,   3,   4,   5,   6,   7,   8,   9,\n",
       "       ...\n",
       "       277, 278, 279, 280, 281, 282, 283, 284, 285, 286],\n",
       "      dtype='int64', length=252)"
      ]
     },
     "execution_count": 45,
     "metadata": {},
     "output_type": "execute_result"
    }
   ],
   "source": [
    "time_4.index"
   ]
  },
  {
   "cell_type": "code",
   "execution_count": 46,
   "metadata": {
    "id": "XBxoDEUbWi5x"
   },
   "outputs": [],
   "source": [
    "time_4.index = pd.to_datetime(time_4.index)"
   ]
  },
  {
   "cell_type": "code",
   "execution_count": 47,
   "metadata": {
    "id": "mryJznvrWp2R"
   },
   "outputs": [],
   "source": [
    "time_4 = time_4.sort_index()"
   ]
  },
  {
   "cell_type": "code",
   "execution_count": 48,
   "metadata": {
    "id": "n78xq3N8Wptv"
   },
   "outputs": [],
   "source": [
    "time_4 = time_4.reset_index()"
   ]
  },
  {
   "cell_type": "code",
   "execution_count": 49,
   "metadata": {
    "id": "saJGRCJXXC9P"
   },
   "outputs": [],
   "source": [
    "time_4['ds'] = pd.to_datetime(time_4['ds'])"
   ]
  },
  {
   "cell_type": "code",
   "execution_count": 50,
   "metadata": {
    "colab": {
     "base_uri": "https://localhost:8080/"
    },
    "id": "o26-UU6sdhIM",
    "outputId": "9754f20e-2de8-4059-e6ce-c1e372a7bf29"
   },
   "outputs": [
    {
     "name": "stdout",
     "output_type": "stream",
     "text": [
      "True\n"
     ]
    }
   ],
   "source": [
    "is_range_index_2 = isinstance(time_4.index, pd.RangeIndex)\n",
    "print(is_range_index_2)"
   ]
  },
  {
   "cell_type": "code",
   "execution_count": 52,
   "metadata": {
    "id": "2sPbv1uwdqJc"
   },
   "outputs": [],
   "source": [
    "countries_1 = time_4.groupby('country')"
   ]
  },
  {
   "cell_type": "code",
   "execution_count": 53,
   "metadata": {
    "colab": {
     "base_uri": "https://localhost:8080/",
     "height": 676
    },
    "id": "gqkbMfw3hKe8",
    "outputId": "9ed91ce9-3a68-4ebc-d6e8-47d9c97c5617"
   },
   "outputs": [
    {
     "data": {
      "text/html": [
       "<div>\n",
       "<style scoped>\n",
       "    .dataframe tbody tr th:only-of-type {\n",
       "        vertical-align: middle;\n",
       "    }\n",
       "\n",
       "    .dataframe tbody tr th {\n",
       "        vertical-align: top;\n",
       "    }\n",
       "\n",
       "    .dataframe thead th {\n",
       "        text-align: right;\n",
       "    }\n",
       "</style>\n",
       "<table border=\"1\" class=\"dataframe\">\n",
       "  <thead>\n",
       "    <tr style=\"text-align: right;\">\n",
       "      <th></th>\n",
       "      <th>index</th>\n",
       "      <th>country</th>\n",
       "      <th>ds</th>\n",
       "      <th>y</th>\n",
       "    </tr>\n",
       "  </thead>\n",
       "  <tbody>\n",
       "    <tr>\n",
       "      <th>0</th>\n",
       "      <td>1970-01-01 00:00:00.000000000</td>\n",
       "      <td>India</td>\n",
       "      <td>1960-01-01</td>\n",
       "      <td>3.702988e+10</td>\n",
       "    </tr>\n",
       "    <tr>\n",
       "      <th>1</th>\n",
       "      <td>1970-01-01 00:00:00.000000001</td>\n",
       "      <td>India</td>\n",
       "      <td>1961-01-01</td>\n",
       "      <td>3.923244e+10</td>\n",
       "    </tr>\n",
       "    <tr>\n",
       "      <th>2</th>\n",
       "      <td>1970-01-01 00:00:00.000000002</td>\n",
       "      <td>India</td>\n",
       "      <td>1962-01-01</td>\n",
       "      <td>4.216148e+10</td>\n",
       "    </tr>\n",
       "    <tr>\n",
       "      <th>3</th>\n",
       "      <td>1970-01-01 00:00:00.000000003</td>\n",
       "      <td>India</td>\n",
       "      <td>1963-01-01</td>\n",
       "      <td>4.842192e+10</td>\n",
       "    </tr>\n",
       "    <tr>\n",
       "      <th>4</th>\n",
       "      <td>1970-01-01 00:00:00.000000004</td>\n",
       "      <td>India</td>\n",
       "      <td>1964-01-01</td>\n",
       "      <td>5.648029e+10</td>\n",
       "    </tr>\n",
       "    <tr>\n",
       "      <th>63</th>\n",
       "      <td>1970-01-01 00:00:00.000000063</td>\n",
       "      <td>Brazil</td>\n",
       "      <td>1960-01-01</td>\n",
       "      <td>1.703047e+10</td>\n",
       "    </tr>\n",
       "    <tr>\n",
       "      <th>64</th>\n",
       "      <td>1970-01-01 00:00:00.000000064</td>\n",
       "      <td>Brazil</td>\n",
       "      <td>1961-01-01</td>\n",
       "      <td>1.727594e+10</td>\n",
       "    </tr>\n",
       "    <tr>\n",
       "      <th>65</th>\n",
       "      <td>1970-01-01 00:00:00.000000065</td>\n",
       "      <td>Brazil</td>\n",
       "      <td>1962-01-01</td>\n",
       "      <td>1.923175e+10</td>\n",
       "    </tr>\n",
       "    <tr>\n",
       "      <th>66</th>\n",
       "      <td>1970-01-01 00:00:00.000000066</td>\n",
       "      <td>Brazil</td>\n",
       "      <td>1963-01-01</td>\n",
       "      <td>2.328771e+10</td>\n",
       "    </tr>\n",
       "    <tr>\n",
       "      <th>67</th>\n",
       "      <td>1970-01-01 00:00:00.000000067</td>\n",
       "      <td>Brazil</td>\n",
       "      <td>1964-01-01</td>\n",
       "      <td>2.096373e+10</td>\n",
       "    </tr>\n",
       "    <tr>\n",
       "      <th>126</th>\n",
       "      <td>1970-01-01 00:00:00.000000161</td>\n",
       "      <td>China</td>\n",
       "      <td>1960-01-01</td>\n",
       "      <td>5.971625e+10</td>\n",
       "    </tr>\n",
       "    <tr>\n",
       "      <th>127</th>\n",
       "      <td>1970-01-01 00:00:00.000000162</td>\n",
       "      <td>China</td>\n",
       "      <td>1961-01-01</td>\n",
       "      <td>5.005669e+10</td>\n",
       "    </tr>\n",
       "    <tr>\n",
       "      <th>128</th>\n",
       "      <td>1970-01-01 00:00:00.000000163</td>\n",
       "      <td>China</td>\n",
       "      <td>1962-01-01</td>\n",
       "      <td>4.720919e+10</td>\n",
       "    </tr>\n",
       "    <tr>\n",
       "      <th>129</th>\n",
       "      <td>1970-01-01 00:00:00.000000164</td>\n",
       "      <td>China</td>\n",
       "      <td>1963-01-01</td>\n",
       "      <td>5.070662e+10</td>\n",
       "    </tr>\n",
       "    <tr>\n",
       "      <th>130</th>\n",
       "      <td>1970-01-01 00:00:00.000000165</td>\n",
       "      <td>China</td>\n",
       "      <td>1964-01-01</td>\n",
       "      <td>5.970813e+10</td>\n",
       "    </tr>\n",
       "    <tr>\n",
       "      <th>189</th>\n",
       "      <td>1970-01-01 00:00:00.000000224</td>\n",
       "      <td>South Africa</td>\n",
       "      <td>1960-01-01</td>\n",
       "      <td>8.748597e+09</td>\n",
       "    </tr>\n",
       "    <tr>\n",
       "      <th>190</th>\n",
       "      <td>1970-01-01 00:00:00.000000225</td>\n",
       "      <td>South Africa</td>\n",
       "      <td>1961-01-01</td>\n",
       "      <td>9.225996e+09</td>\n",
       "    </tr>\n",
       "    <tr>\n",
       "      <th>191</th>\n",
       "      <td>1970-01-01 00:00:00.000000226</td>\n",
       "      <td>South Africa</td>\n",
       "      <td>1962-01-01</td>\n",
       "      <td>9.813996e+09</td>\n",
       "    </tr>\n",
       "    <tr>\n",
       "      <th>192</th>\n",
       "      <td>1970-01-01 00:00:00.000000227</td>\n",
       "      <td>South Africa</td>\n",
       "      <td>1963-01-01</td>\n",
       "      <td>1.085420e+10</td>\n",
       "    </tr>\n",
       "    <tr>\n",
       "      <th>193</th>\n",
       "      <td>1970-01-01 00:00:00.000000228</td>\n",
       "      <td>South Africa</td>\n",
       "      <td>1964-01-01</td>\n",
       "      <td>1.195600e+10</td>\n",
       "    </tr>\n",
       "  </tbody>\n",
       "</table>\n",
       "</div>"
      ],
      "text/plain": [
       "                            index       country         ds             y\n",
       "0   1970-01-01 00:00:00.000000000         India 1960-01-01  3.702988e+10\n",
       "1   1970-01-01 00:00:00.000000001         India 1961-01-01  3.923244e+10\n",
       "2   1970-01-01 00:00:00.000000002         India 1962-01-01  4.216148e+10\n",
       "3   1970-01-01 00:00:00.000000003         India 1963-01-01  4.842192e+10\n",
       "4   1970-01-01 00:00:00.000000004         India 1964-01-01  5.648029e+10\n",
       "63  1970-01-01 00:00:00.000000063        Brazil 1960-01-01  1.703047e+10\n",
       "64  1970-01-01 00:00:00.000000064        Brazil 1961-01-01  1.727594e+10\n",
       "65  1970-01-01 00:00:00.000000065        Brazil 1962-01-01  1.923175e+10\n",
       "66  1970-01-01 00:00:00.000000066        Brazil 1963-01-01  2.328771e+10\n",
       "67  1970-01-01 00:00:00.000000067        Brazil 1964-01-01  2.096373e+10\n",
       "126 1970-01-01 00:00:00.000000161         China 1960-01-01  5.971625e+10\n",
       "127 1970-01-01 00:00:00.000000162         China 1961-01-01  5.005669e+10\n",
       "128 1970-01-01 00:00:00.000000163         China 1962-01-01  4.720919e+10\n",
       "129 1970-01-01 00:00:00.000000164         China 1963-01-01  5.070662e+10\n",
       "130 1970-01-01 00:00:00.000000165         China 1964-01-01  5.970813e+10\n",
       "189 1970-01-01 00:00:00.000000224  South Africa 1960-01-01  8.748597e+09\n",
       "190 1970-01-01 00:00:00.000000225  South Africa 1961-01-01  9.225996e+09\n",
       "191 1970-01-01 00:00:00.000000226  South Africa 1962-01-01  9.813996e+09\n",
       "192 1970-01-01 00:00:00.000000227  South Africa 1963-01-01  1.085420e+10\n",
       "193 1970-01-01 00:00:00.000000228  South Africa 1964-01-01  1.195600e+10"
      ]
     },
     "execution_count": 53,
     "metadata": {},
     "output_type": "execute_result"
    }
   ],
   "source": [
    "countries_1.head()"
   ]
  },
  {
   "cell_type": "code",
   "execution_count": null,
   "metadata": {
    "id": "ebAVgquV99sp"
   },
   "outputs": [],
   "source": []
  },
  {
   "cell_type": "code",
   "execution_count": 54,
   "metadata": {
    "colab": {
     "base_uri": "https://localhost:8080/"
    },
    "id": "uai0l5OWd90Q",
    "outputId": "1a53f064-31da-4216-968c-0335ea1b211c"
   },
   "outputs": [
    {
     "name": "stdout",
     "output_type": "stream",
     "text": [
      "(3, 4)\n",
      "(3, 4)\n",
      "(3, 4)\n",
      "(3, 4)\n"
     ]
    }
   ],
   "source": [
    "for i in countries_1.groups:\n",
    "  group = countries_1.get_group(i)\n",
    "  train = group[(group['ds']  >= '1960-01-01') & ((group['ds']  <= '2019-01-01'))]\n",
    "  test = group[(group['ds'] > '2019-01-01')]\n",
    "  print(test.shape)"
   ]
  },
  {
   "cell_type": "code",
   "execution_count": 55,
   "metadata": {
    "colab": {
     "base_uri": "https://localhost:8080/",
     "height": 206
    },
    "id": "0cWFddiAhw-h",
    "outputId": "fd5b71f5-649c-414e-c383-61ecb9fa5158"
   },
   "outputs": [
    {
     "data": {
      "text/html": [
       "<div>\n",
       "<style scoped>\n",
       "    .dataframe tbody tr th:only-of-type {\n",
       "        vertical-align: middle;\n",
       "    }\n",
       "\n",
       "    .dataframe tbody tr th {\n",
       "        vertical-align: top;\n",
       "    }\n",
       "\n",
       "    .dataframe thead th {\n",
       "        text-align: right;\n",
       "    }\n",
       "</style>\n",
       "<table border=\"1\" class=\"dataframe\">\n",
       "  <thead>\n",
       "    <tr style=\"text-align: right;\">\n",
       "      <th></th>\n",
       "      <th>index</th>\n",
       "      <th>country</th>\n",
       "      <th>ds</th>\n",
       "      <th>y</th>\n",
       "    </tr>\n",
       "  </thead>\n",
       "  <tbody>\n",
       "    <tr>\n",
       "      <th>189</th>\n",
       "      <td>1970-01-01 00:00:00.000000224</td>\n",
       "      <td>South Africa</td>\n",
       "      <td>1960-01-01</td>\n",
       "      <td>8.748597e+09</td>\n",
       "    </tr>\n",
       "    <tr>\n",
       "      <th>190</th>\n",
       "      <td>1970-01-01 00:00:00.000000225</td>\n",
       "      <td>South Africa</td>\n",
       "      <td>1961-01-01</td>\n",
       "      <td>9.225996e+09</td>\n",
       "    </tr>\n",
       "    <tr>\n",
       "      <th>191</th>\n",
       "      <td>1970-01-01 00:00:00.000000226</td>\n",
       "      <td>South Africa</td>\n",
       "      <td>1962-01-01</td>\n",
       "      <td>9.813996e+09</td>\n",
       "    </tr>\n",
       "    <tr>\n",
       "      <th>192</th>\n",
       "      <td>1970-01-01 00:00:00.000000227</td>\n",
       "      <td>South Africa</td>\n",
       "      <td>1963-01-01</td>\n",
       "      <td>1.085420e+10</td>\n",
       "    </tr>\n",
       "    <tr>\n",
       "      <th>193</th>\n",
       "      <td>1970-01-01 00:00:00.000000228</td>\n",
       "      <td>South Africa</td>\n",
       "      <td>1964-01-01</td>\n",
       "      <td>1.195600e+10</td>\n",
       "    </tr>\n",
       "  </tbody>\n",
       "</table>\n",
       "</div>"
      ],
      "text/plain": [
       "                            index       country         ds             y\n",
       "189 1970-01-01 00:00:00.000000224  South Africa 1960-01-01  8.748597e+09\n",
       "190 1970-01-01 00:00:00.000000225  South Africa 1961-01-01  9.225996e+09\n",
       "191 1970-01-01 00:00:00.000000226  South Africa 1962-01-01  9.813996e+09\n",
       "192 1970-01-01 00:00:00.000000227  South Africa 1963-01-01  1.085420e+10\n",
       "193 1970-01-01 00:00:00.000000228  South Africa 1964-01-01  1.195600e+10"
      ]
     },
     "execution_count": 55,
     "metadata": {},
     "output_type": "execute_result"
    }
   ],
   "source": [
    "group.head()"
   ]
  },
  {
   "cell_type": "code",
   "execution_count": 57,
   "metadata": {
    "id": "TdP4QVso-hQW"
   },
   "outputs": [],
   "source": [
    "from prophet import Prophet\n",
    "from prophet.diagnostics import cross_validation\n",
    "from sklearn.model_selection import ParameterGrid"
   ]
  },
  {
   "cell_type": "code",
   "execution_count": 58,
   "metadata": {
    "id": "QKFF8NcLfCDP"
   },
   "outputs": [],
   "source": [
    "target = pd.DataFrame()"
   ]
  },
  {
   "cell_type": "code",
   "execution_count": 99,
   "metadata": {},
   "outputs": [
    {
     "name": "stderr",
     "output_type": "stream",
     "text": [
      "15:50:08 - cmdstanpy - INFO - Chain [1] start processing\n",
      "15:50:09 - cmdstanpy - INFO - Chain [1] done processing\n",
      "15:50:09 - cmdstanpy - INFO - Chain [1] start processing\n",
      "15:50:09 - cmdstanpy - INFO - Chain [1] done processing\n",
      "15:50:09 - cmdstanpy - INFO - Chain [1] start processing\n",
      "15:50:10 - cmdstanpy - INFO - Chain [1] done processing\n",
      "15:50:10 - cmdstanpy - INFO - Chain [1] start processing\n",
      "15:50:10 - cmdstanpy - INFO - Chain [1] done processing\n"
     ]
    },
    {
     "data": {
      "image/png": "[encoded data removed]",
      "text/plain": [
       "<Figure size 1000x600 with 1 Axes>"
      ]
     },
     "metadata": {},
     "output_type": "display_data"
    },
    {
     "data": {
      "image/png": "[encoded data removed]",
      "text/plain": [
       "<Figure size 1000x600 with 1 Axes>"
      ]
     },
     "metadata": {},
     "output_type": "display_data"
    },
    {
     "data": {
      "image/png": "[encoded data removed]",
      "text/plain": [
       "<Figure size 1000x600 with 1 Axes>"
      ]
     },
     "metadata": {},
     "output_type": "display_data"
    },
    {
     "data": {
      "image/png": "[encoded data removed]",
      "text/plain": [
       "<Figure size 1000x600 with 1 Axes>"
      ]
     },
     "metadata": {},
     "output_type": "display_data"
    }
   ],
   "source": [
    "for i in countries_1.groups:\n",
    "    group_1 = countries_1.get_group(i)\n",
    "    \n",
    "    m = Prophet(changepoint_prior_scale=0.01, interval_width=0.95, n_changepoints=25)\n",
    "    m.fit(group_1)\n",
    "\n",
    "    future = m.make_future_dataframe(periods=3)\n",
    "    forecast = m.predict(future)\n",
    "\n",
    "    # Plot the forecast for this group\n",
    "    fig = m.plot(forecast)\n",
    "\n",
    "    forecast_1 = forecast.rename(columns={'yhat': 'yhat_' + i})\n",
    "    #target = target.merge(forecast[['ds', 'yhat_' + i]], on='ds', how='outer')\n",
    "# arget = pd.merge(target, forecast.set_index('ds'), how = 'outer', left_index = True, right_index = True)"
   ]
  },
  {
   "cell_type": "code",
   "execution_count": 100,
   "metadata": {},
   "outputs": [
    {
     "data": {
      "text/plain": [
       "{'additive': ['yearly',\n",
       "  'additive_terms',\n",
       "  'extra_regressors_additive',\n",
       "  'holidays'],\n",
       " 'multiplicative': ['multiplicative_terms', 'extra_regressors_multiplicative']}"
      ]
     },
     "execution_count": 100,
     "metadata": {},
     "output_type": "execute_result"
    }
   ],
   "source": [
    "m.component_modes"
   ]
  },
  {
   "cell_type": "code",
   "execution_count": 101,
   "metadata": {},
   "outputs": [
    {
     "data": {
      "text/plain": [
       "Index(['ds', 'trend', 'yhat_lower', 'yhat_upper', 'trend_lower', 'trend_upper',\n",
       "       'additive_terms', 'additive_terms_lower', 'additive_terms_upper',\n",
       "       'yearly', 'yearly_lower', 'yearly_upper', 'multiplicative_terms',\n",
       "       'multiplicative_terms_lower', 'multiplicative_terms_upper',\n",
       "       'yhat_South Africa'],\n",
       "      dtype='object')"
      ]
     },
     "execution_count": 101,
     "metadata": {},
     "output_type": "execute_result"
    }
   ],
   "source": [
    "forecast_1.columns"
   ]
  },
  {
   "cell_type": "code",
   "execution_count": 62,
   "metadata": {
    "colab": {
     "base_uri": "https://localhost:8080/",
     "height": 245
    },
    "id": "yajLxIbIfF6Y",
    "outputId": "86f3d579-d4ea-485b-8910-32a5d2a757f8",
    "scrolled": true
   },
   "outputs": [
    {
     "name": "stderr",
     "output_type": "stream",
     "text": [
      "13:19:17 - cmdstanpy - INFO - Chain [1] start processing\n",
      "13:19:18 - cmdstanpy - INFO - Chain [1] done processing\n"
     ]
    },
    {
     "ename": "MergeError",
     "evalue": "Passing 'suffixes' which cause duplicate columns {'multiplicative_terms_upper_x', 'multiplicative_terms_x', 'yearly_upper_x', 'additive_terms_upper_x', 'additive_terms_x', 'trend_x', 'yhat_upper_x', 'yearly_x', 'yearly_lower_x', 'yhat_lower_x', 'multiplicative_terms_lower_x', 'trend_lower_x', 'trend_upper_x', 'additive_terms_lower_x'} is not allowed.",
     "output_type": "error",
     "traceback": [
      "\u001b[1;31m---------------------------------------------------------------------------\u001b[0m",
      "\u001b[1;31mMergeError\u001b[0m                                Traceback (most recent call last)",
      "Cell \u001b[1;32mIn[62], line 10\u001b[0m\n\u001b[0;32m      8\u001b[0m m\u001b[38;5;241m.\u001b[39mplot(forecast)\n\u001b[0;32m      9\u001b[0m forecast \u001b[38;5;241m=\u001b[39m forecast\u001b[38;5;241m.\u001b[39mrename(columns \u001b[38;5;241m=\u001b[39m {\u001b[38;5;124m'\u001b[39m\u001b[38;5;124myhat\u001b[39m\u001b[38;5;124m'\u001b[39m : \u001b[38;5;124m'\u001b[39m\u001b[38;5;124myhat_\u001b[39m\u001b[38;5;124m'\u001b[39m \u001b[38;5;241m+\u001b[39m i})\n\u001b[1;32m---> 10\u001b[0m target \u001b[38;5;241m=\u001b[39m pd\u001b[38;5;241m.\u001b[39mmerge(target, forecast\u001b[38;5;241m.\u001b[39mset_index(\u001b[38;5;124m'\u001b[39m\u001b[38;5;124mds\u001b[39m\u001b[38;5;124m'\u001b[39m), how \u001b[38;5;241m=\u001b[39m \u001b[38;5;124m'\u001b[39m\u001b[38;5;124mouter\u001b[39m\u001b[38;5;124m'\u001b[39m, left_index \u001b[38;5;241m=\u001b[39m \u001b[38;5;28;01mTrue\u001b[39;00m, right_index \u001b[38;5;241m=\u001b[39m \u001b[38;5;28;01mTrue\u001b[39;00m)\n",
      "File \u001b[1;32m~\\anaconda3\\Lib\\site-packages\\pandas\\core\\reshape\\merge.py:162\u001b[0m, in \u001b[0;36mmerge\u001b[1;34m(left, right, how, on, left_on, right_on, left_index, right_index, sort, suffixes, copy, indicator, validate)\u001b[0m\n\u001b[0;32m    131\u001b[0m \u001b[38;5;129m@Substitution\u001b[39m(\u001b[38;5;124m\"\u001b[39m\u001b[38;5;130;01m\\n\u001b[39;00m\u001b[38;5;124mleft : DataFrame or named Series\u001b[39m\u001b[38;5;124m\"\u001b[39m)\n\u001b[0;32m    132\u001b[0m \u001b[38;5;129m@Appender\u001b[39m(_merge_doc, indents\u001b[38;5;241m=\u001b[39m\u001b[38;5;241m0\u001b[39m)\n\u001b[0;32m    133\u001b[0m \u001b[38;5;28;01mdef\u001b[39;00m \u001b[38;5;21mmerge\u001b[39m(\n\u001b[1;32m   (...)\u001b[0m\n\u001b[0;32m    146\u001b[0m     validate: \u001b[38;5;28mstr\u001b[39m \u001b[38;5;241m|\u001b[39m \u001b[38;5;28;01mNone\u001b[39;00m \u001b[38;5;241m=\u001b[39m \u001b[38;5;28;01mNone\u001b[39;00m,\n\u001b[0;32m    147\u001b[0m ) \u001b[38;5;241m-\u001b[39m\u001b[38;5;241m>\u001b[39m DataFrame:\n\u001b[0;32m    148\u001b[0m     op \u001b[38;5;241m=\u001b[39m _MergeOperation(\n\u001b[0;32m    149\u001b[0m         left,\n\u001b[0;32m    150\u001b[0m         right,\n\u001b[1;32m   (...)\u001b[0m\n\u001b[0;32m    160\u001b[0m         validate\u001b[38;5;241m=\u001b[39mvalidate,\n\u001b[0;32m    161\u001b[0m     )\n\u001b[1;32m--> 162\u001b[0m     \u001b[38;5;28;01mreturn\u001b[39;00m op\u001b[38;5;241m.\u001b[39mget_result(copy\u001b[38;5;241m=\u001b[39mcopy)\n",
      "File \u001b[1;32m~\\anaconda3\\Lib\\site-packages\\pandas\\core\\reshape\\merge.py:811\u001b[0m, in \u001b[0;36m_MergeOperation.get_result\u001b[1;34m(self, copy)\u001b[0m\n\u001b[0;32m    807\u001b[0m     \u001b[38;5;28mself\u001b[39m\u001b[38;5;241m.\u001b[39mleft, \u001b[38;5;28mself\u001b[39m\u001b[38;5;241m.\u001b[39mright \u001b[38;5;241m=\u001b[39m \u001b[38;5;28mself\u001b[39m\u001b[38;5;241m.\u001b[39m_indicator_pre_merge(\u001b[38;5;28mself\u001b[39m\u001b[38;5;241m.\u001b[39mleft, \u001b[38;5;28mself\u001b[39m\u001b[38;5;241m.\u001b[39mright)\n\u001b[0;32m    809\u001b[0m join_index, left_indexer, right_indexer \u001b[38;5;241m=\u001b[39m \u001b[38;5;28mself\u001b[39m\u001b[38;5;241m.\u001b[39m_get_join_info()\n\u001b[1;32m--> 811\u001b[0m result \u001b[38;5;241m=\u001b[39m \u001b[38;5;28mself\u001b[39m\u001b[38;5;241m.\u001b[39m_reindex_and_concat(\n\u001b[0;32m    812\u001b[0m     join_index, left_indexer, right_indexer, copy\u001b[38;5;241m=\u001b[39mcopy\n\u001b[0;32m    813\u001b[0m )\n\u001b[0;32m    814\u001b[0m result \u001b[38;5;241m=\u001b[39m result\u001b[38;5;241m.\u001b[39m__finalize__(\u001b[38;5;28mself\u001b[39m, method\u001b[38;5;241m=\u001b[39m\u001b[38;5;28mself\u001b[39m\u001b[38;5;241m.\u001b[39m_merge_type)\n\u001b[0;32m    816\u001b[0m \u001b[38;5;28;01mif\u001b[39;00m \u001b[38;5;28mself\u001b[39m\u001b[38;5;241m.\u001b[39mindicator:\n",
      "File \u001b[1;32m~\\anaconda3\\Lib\\site-packages\\pandas\\core\\reshape\\merge.py:763\u001b[0m, in \u001b[0;36m_MergeOperation._reindex_and_concat\u001b[1;34m(self, join_index, left_indexer, right_indexer, copy)\u001b[0m\n\u001b[0;32m    760\u001b[0m left \u001b[38;5;241m=\u001b[39m \u001b[38;5;28mself\u001b[39m\u001b[38;5;241m.\u001b[39mleft[:]\n\u001b[0;32m    761\u001b[0m right \u001b[38;5;241m=\u001b[39m \u001b[38;5;28mself\u001b[39m\u001b[38;5;241m.\u001b[39mright[:]\n\u001b[1;32m--> 763\u001b[0m llabels, rlabels \u001b[38;5;241m=\u001b[39m _items_overlap_with_suffix(\n\u001b[0;32m    764\u001b[0m     \u001b[38;5;28mself\u001b[39m\u001b[38;5;241m.\u001b[39mleft\u001b[38;5;241m.\u001b[39m_info_axis, \u001b[38;5;28mself\u001b[39m\u001b[38;5;241m.\u001b[39mright\u001b[38;5;241m.\u001b[39m_info_axis, \u001b[38;5;28mself\u001b[39m\u001b[38;5;241m.\u001b[39msuffixes\n\u001b[0;32m    765\u001b[0m )\n\u001b[0;32m    767\u001b[0m \u001b[38;5;28;01mif\u001b[39;00m left_indexer \u001b[38;5;129;01mis\u001b[39;00m \u001b[38;5;129;01mnot\u001b[39;00m \u001b[38;5;28;01mNone\u001b[39;00m \u001b[38;5;129;01mand\u001b[39;00m \u001b[38;5;129;01mnot\u001b[39;00m is_range_indexer(left_indexer, \u001b[38;5;28mlen\u001b[39m(left)):\n\u001b[0;32m    768\u001b[0m     \u001b[38;5;66;03m# Pinning the index here (and in the right code just below) is not\u001b[39;00m\n\u001b[0;32m    769\u001b[0m     \u001b[38;5;66;03m#  necessary, but makes the `.take` more performant if we have e.g.\u001b[39;00m\n\u001b[0;32m    770\u001b[0m     \u001b[38;5;66;03m#  a MultiIndex for left.index.\u001b[39;00m\n\u001b[0;32m    771\u001b[0m     lmgr \u001b[38;5;241m=\u001b[39m left\u001b[38;5;241m.\u001b[39m_mgr\u001b[38;5;241m.\u001b[39mreindex_indexer(\n\u001b[0;32m    772\u001b[0m         join_index,\n\u001b[0;32m    773\u001b[0m         left_indexer,\n\u001b[1;32m   (...)\u001b[0m\n\u001b[0;32m    778\u001b[0m         use_na_proxy\u001b[38;5;241m=\u001b[39m\u001b[38;5;28;01mTrue\u001b[39;00m,\n\u001b[0;32m    779\u001b[0m     )\n",
      "File \u001b[1;32m~\\anaconda3\\Lib\\site-packages\\pandas\\core\\reshape\\merge.py:2640\u001b[0m, in \u001b[0;36m_items_overlap_with_suffix\u001b[1;34m(left, right, suffixes)\u001b[0m\n\u001b[0;32m   2638\u001b[0m     dups\u001b[38;5;241m.\u001b[39mextend(rlabels[(rlabels\u001b[38;5;241m.\u001b[39mduplicated()) \u001b[38;5;241m&\u001b[39m (\u001b[38;5;241m~\u001b[39mright\u001b[38;5;241m.\u001b[39mduplicated())]\u001b[38;5;241m.\u001b[39mtolist())\n\u001b[0;32m   2639\u001b[0m \u001b[38;5;28;01mif\u001b[39;00m dups:\n\u001b[1;32m-> 2640\u001b[0m     \u001b[38;5;28;01mraise\u001b[39;00m MergeError(\n\u001b[0;32m   2641\u001b[0m         \u001b[38;5;124mf\u001b[39m\u001b[38;5;124m\"\u001b[39m\u001b[38;5;124mPassing \u001b[39m\u001b[38;5;124m'\u001b[39m\u001b[38;5;124msuffixes\u001b[39m\u001b[38;5;124m'\u001b[39m\u001b[38;5;124m which cause duplicate columns \u001b[39m\u001b[38;5;132;01m{\u001b[39;00m\u001b[38;5;28mset\u001b[39m(dups)\u001b[38;5;132;01m}\u001b[39;00m\u001b[38;5;124m is \u001b[39m\u001b[38;5;124m\"\u001b[39m\n\u001b[0;32m   2642\u001b[0m         \u001b[38;5;124mf\u001b[39m\u001b[38;5;124m\"\u001b[39m\u001b[38;5;124mnot allowed.\u001b[39m\u001b[38;5;124m\"\u001b[39m,\n\u001b[0;32m   2643\u001b[0m     )\n\u001b[0;32m   2645\u001b[0m \u001b[38;5;28;01mreturn\u001b[39;00m llabels, rlabels\n",
      "\u001b[1;31mMergeError\u001b[0m: Passing 'suffixes' which cause duplicate columns {'multiplicative_terms_upper_x', 'multiplicative_terms_x', 'yearly_upper_x', 'additive_terms_upper_x', 'additive_terms_x', 'trend_x', 'yhat_upper_x', 'yearly_x', 'yearly_lower_x', 'yhat_lower_x', 'multiplicative_terms_lower_x', 'trend_lower_x', 'trend_upper_x', 'additive_terms_lower_x'} is not allowed."
     ]
    },
    {
     "data": {
      "image/png": "[encoded data removed]",
      "text/plain": [
       "<Figure size 1000x600 with 1 Axes>"
      ]
     },
     "metadata": {},
     "output_type": "display_data"
    }
   ],
   "source": [
    "for i in countries_1.groups:\n",
    "        group_1 = countries_1.get_group(i)\n",
    "        m = Prophet()\n",
    "    # interval_width = 0.95\n",
    "        m.fit(group_1)\n",
    "        future = m.make_future_dataframe(periods = 3)\n",
    "        forecast = m.predict(future)\n",
    "        m.plot(forecast)\n",
    "        forecast = forecast.rename(columns = {'yhat' : 'yhat_' + i})\n",
    "        target = pd.merge(target, forecast.set_index('ds'), how = 'outer', left_index = True, right_index = True)"
   ]
  },
  {
   "cell_type": "code",
   "execution_count": 102,
   "metadata": {
    "colab": {
     "base_uri": "https://localhost:8080/",
     "height": 53
    },
    "id": "3C5CiRptjRox",
    "outputId": "502a8699-b720-4f55-87eb-23a945107d86"
   },
   "outputs": [
    {
     "data": {
      "text/html": [
       "<div>\n",
       "<style scoped>\n",
       "    .dataframe tbody tr th:only-of-type {\n",
       "        vertical-align: middle;\n",
       "    }\n",
       "\n",
       "    .dataframe tbody tr th {\n",
       "        vertical-align: top;\n",
       "    }\n",
       "\n",
       "    .dataframe thead th {\n",
       "        text-align: right;\n",
       "    }\n",
       "</style>\n",
       "<table border=\"1\" class=\"dataframe\">\n",
       "  <thead>\n",
       "    <tr style=\"text-align: right;\">\n",
       "      <th></th>\n",
       "      <th>ds</th>\n",
       "      <th>trend_x</th>\n",
       "      <th>yhat_lower_x</th>\n",
       "      <th>yhat_upper_x</th>\n",
       "      <th>trend_lower_x</th>\n",
       "      <th>trend_upper_x</th>\n",
       "      <th>additive_terms_x</th>\n",
       "      <th>additive_terms_lower_x</th>\n",
       "      <th>additive_terms_upper_x</th>\n",
       "      <th>yearly_x</th>\n",
       "      <th>...</th>\n",
       "      <th>multiplicative_terms_upper</th>\n",
       "      <th>yhat_India_x</th>\n",
       "      <th>yhat_Brazil_y</th>\n",
       "      <th>yhat_China_y</th>\n",
       "      <th>yhat_India_y</th>\n",
       "      <th>yhat_South Africa_x</th>\n",
       "      <th>yhat_Brazil</th>\n",
       "      <th>yhat_China</th>\n",
       "      <th>yhat_India</th>\n",
       "      <th>yhat_South Africa_y</th>\n",
       "    </tr>\n",
       "  </thead>\n",
       "  <tbody>\n",
       "    <tr>\n",
       "      <th>0</th>\n",
       "      <td>1960-01-01</td>\n",
       "      <td>-1.932557e+11</td>\n",
       "      <td>-1.184685e+12</td>\n",
       "      <td>2.968395e+11</td>\n",
       "      <td>-1.932557e+11</td>\n",
       "      <td>-1.932557e+11</td>\n",
       "      <td>-2.428367e+11</td>\n",
       "      <td>-2.428367e+11</td>\n",
       "      <td>-2.428367e+11</td>\n",
       "      <td>-2.428367e+11</td>\n",
       "      <td>...</td>\n",
       "      <td>0.0</td>\n",
       "      <td>-1.965793e+10</td>\n",
       "      <td>-4.360924e+11</td>\n",
       "      <td>-9.179820e+10</td>\n",
       "      <td>-1.965793e+10</td>\n",
       "      <td>-3.507863e+10</td>\n",
       "      <td>-4.360924e+11</td>\n",
       "      <td>-9.179820e+10</td>\n",
       "      <td>-1.965793e+10</td>\n",
       "      <td>-3.507863e+10</td>\n",
       "    </tr>\n",
       "    <tr>\n",
       "      <th>1</th>\n",
       "      <td>1961-01-01</td>\n",
       "      <td>-1.556553e+11</td>\n",
       "      <td>-1.118219e+12</td>\n",
       "      <td>3.389100e+11</td>\n",
       "      <td>-1.556553e+11</td>\n",
       "      <td>-1.556553e+11</td>\n",
       "      <td>-2.191989e+11</td>\n",
       "      <td>-2.191989e+11</td>\n",
       "      <td>-2.191989e+11</td>\n",
       "      <td>-2.191989e+11</td>\n",
       "      <td>...</td>\n",
       "      <td>0.0</td>\n",
       "      <td>1.208253e+10</td>\n",
       "      <td>-3.748542e+11</td>\n",
       "      <td>5.580406e+10</td>\n",
       "      <td>1.208253e+10</td>\n",
       "      <td>-2.914906e+10</td>\n",
       "      <td>-3.748542e+11</td>\n",
       "      <td>5.580406e+10</td>\n",
       "      <td>1.208253e+10</td>\n",
       "      <td>-2.914906e+10</td>\n",
       "    </tr>\n",
       "    <tr>\n",
       "      <th>2</th>\n",
       "      <td>1962-01-01</td>\n",
       "      <td>-1.181577e+11</td>\n",
       "      <td>-1.110803e+12</td>\n",
       "      <td>4.487353e+11</td>\n",
       "      <td>-1.181577e+11</td>\n",
       "      <td>-1.181577e+11</td>\n",
       "      <td>-2.234540e+11</td>\n",
       "      <td>-2.234540e+11</td>\n",
       "      <td>-2.234540e+11</td>\n",
       "      <td>-2.234540e+11</td>\n",
       "      <td>...</td>\n",
       "      <td>0.0</td>\n",
       "      <td>3.534899e+10</td>\n",
       "      <td>-3.416118e+11</td>\n",
       "      <td>4.052739e+10</td>\n",
       "      <td>3.534899e+10</td>\n",
       "      <td>-2.245776e+10</td>\n",
       "      <td>-3.416118e+11</td>\n",
       "      <td>4.052739e+10</td>\n",
       "      <td>3.534899e+10</td>\n",
       "      <td>-2.245776e+10</td>\n",
       "    </tr>\n",
       "    <tr>\n",
       "      <th>3</th>\n",
       "      <td>1963-01-01</td>\n",
       "      <td>-8.066014e+10</td>\n",
       "      <td>-9.780212e+11</td>\n",
       "      <td>4.910986e+11</td>\n",
       "      <td>-8.066014e+10</td>\n",
       "      <td>-8.066014e+10</td>\n",
       "      <td>-2.313368e+11</td>\n",
       "      <td>-2.313368e+11</td>\n",
       "      <td>-2.313368e+11</td>\n",
       "      <td>-2.313368e+11</td>\n",
       "      <td>...</td>\n",
       "      <td>0.0</td>\n",
       "      <td>3.510406e+10</td>\n",
       "      <td>-3.119969e+11</td>\n",
       "      <td>6.937007e+09</td>\n",
       "      <td>3.510406e+10</td>\n",
       "      <td>-1.697949e+10</td>\n",
       "      <td>-3.119969e+11</td>\n",
       "      <td>6.937007e+09</td>\n",
       "      <td>3.510406e+10</td>\n",
       "      <td>-1.697949e+10</td>\n",
       "    </tr>\n",
       "    <tr>\n",
       "      <th>4</th>\n",
       "      <td>1964-01-01</td>\n",
       "      <td>-4.316255e+10</td>\n",
       "      <td>-1.044154e+12</td>\n",
       "      <td>4.420064e+11</td>\n",
       "      <td>-4.316255e+10</td>\n",
       "      <td>-4.316255e+10</td>\n",
       "      <td>-2.428367e+11</td>\n",
       "      <td>-2.428367e+11</td>\n",
       "      <td>-2.428367e+11</td>\n",
       "      <td>-2.428367e+11</td>\n",
       "      <td>...</td>\n",
       "      <td>0.0</td>\n",
       "      <td>1.135310e+10</td>\n",
       "      <td>-2.859993e+11</td>\n",
       "      <td>-4.490459e+10</td>\n",
       "      <td>1.135310e+10</td>\n",
       "      <td>-1.271442e+10</td>\n",
       "      <td>-2.859993e+11</td>\n",
       "      <td>-4.490459e+10</td>\n",
       "      <td>1.135310e+10</td>\n",
       "      <td>-1.271442e+10</td>\n",
       "    </tr>\n",
       "    <tr>\n",
       "      <th>...</th>\n",
       "      <td>...</td>\n",
       "      <td>...</td>\n",
       "      <td>...</td>\n",
       "      <td>...</td>\n",
       "      <td>...</td>\n",
       "      <td>...</td>\n",
       "      <td>...</td>\n",
       "      <td>...</td>\n",
       "      <td>...</td>\n",
       "      <td>...</td>\n",
       "      <td>...</td>\n",
       "      <td>...</td>\n",
       "      <td>...</td>\n",
       "      <td>...</td>\n",
       "      <td>...</td>\n",
       "      <td>...</td>\n",
       "      <td>...</td>\n",
       "      <td>...</td>\n",
       "      <td>...</td>\n",
       "      <td>...</td>\n",
       "      <td>...</td>\n",
       "    </tr>\n",
       "    <tr>\n",
       "      <th>61</th>\n",
       "      <td>2021-01-01</td>\n",
       "      <td>2.100786e+12</td>\n",
       "      <td>1.139287e+12</td>\n",
       "      <td>2.667486e+12</td>\n",
       "      <td>2.100786e+12</td>\n",
       "      <td>2.100786e+12</td>\n",
       "      <td>-2.191989e+11</td>\n",
       "      <td>-2.191989e+11</td>\n",
       "      <td>-2.191989e+11</td>\n",
       "      <td>-2.191989e+11</td>\n",
       "      <td>...</td>\n",
       "      <td>0.0</td>\n",
       "      <td>3.061760e+12</td>\n",
       "      <td>1.881587e+12</td>\n",
       "      <td>1.659845e+13</td>\n",
       "      <td>3.061760e+12</td>\n",
       "      <td>4.099351e+11</td>\n",
       "      <td>1.881587e+12</td>\n",
       "      <td>1.659845e+13</td>\n",
       "      <td>3.061760e+12</td>\n",
       "      <td>4.099351e+11</td>\n",
       "    </tr>\n",
       "    <tr>\n",
       "      <th>62</th>\n",
       "      <td>2022-01-01</td>\n",
       "      <td>2.138450e+12</td>\n",
       "      <td>1.221923e+12</td>\n",
       "      <td>2.672652e+12</td>\n",
       "      <td>2.138450e+12</td>\n",
       "      <td>2.138450e+12</td>\n",
       "      <td>-2.234540e+11</td>\n",
       "      <td>-2.234540e+11</td>\n",
       "      <td>-2.234540e+11</td>\n",
       "      <td>-2.234540e+11</td>\n",
       "      <td>...</td>\n",
       "      <td>0.0</td>\n",
       "      <td>3.214782e+12</td>\n",
       "      <td>1.914996e+12</td>\n",
       "      <td>1.749305e+13</td>\n",
       "      <td>3.214782e+12</td>\n",
       "      <td>4.200933e+11</td>\n",
       "      <td>1.914996e+12</td>\n",
       "      <td>1.749305e+13</td>\n",
       "      <td>3.214782e+12</td>\n",
       "      <td>4.200933e+11</td>\n",
       "    </tr>\n",
       "    <tr>\n",
       "      <th>63</th>\n",
       "      <td>2022-01-02</td>\n",
       "      <td>2.138553e+12</td>\n",
       "      <td>1.127186e+12</td>\n",
       "      <td>2.595942e+12</td>\n",
       "      <td>2.138553e+12</td>\n",
       "      <td>2.138553e+12</td>\n",
       "      <td>-2.282060e+11</td>\n",
       "      <td>-2.282060e+11</td>\n",
       "      <td>-2.282060e+11</td>\n",
       "      <td>-2.282060e+11</td>\n",
       "      <td>...</td>\n",
       "      <td>0.0</td>\n",
       "      <td>3.012576e+12</td>\n",
       "      <td>1.910347e+12</td>\n",
       "      <td>1.749351e+13</td>\n",
       "      <td>3.012576e+12</td>\n",
       "      <td>4.084572e+11</td>\n",
       "      <td>1.910347e+12</td>\n",
       "      <td>1.749351e+13</td>\n",
       "      <td>3.012576e+12</td>\n",
       "      <td>4.084572e+11</td>\n",
       "    </tr>\n",
       "    <tr>\n",
       "      <th>64</th>\n",
       "      <td>2022-01-03</td>\n",
       "      <td>2.138656e+12</td>\n",
       "      <td>1.200681e+12</td>\n",
       "      <td>2.593168e+12</td>\n",
       "      <td>2.138656e+12</td>\n",
       "      <td>2.138656e+12</td>\n",
       "      <td>-2.904992e+11</td>\n",
       "      <td>-2.904992e+11</td>\n",
       "      <td>-2.904992e+11</td>\n",
       "      <td>-2.904992e+11</td>\n",
       "      <td>...</td>\n",
       "      <td>0.0</td>\n",
       "      <td>2.441206e+12</td>\n",
       "      <td>1.848157e+12</td>\n",
       "      <td>1.720271e+13</td>\n",
       "      <td>2.441206e+12</td>\n",
       "      <td>3.778050e+11</td>\n",
       "      <td>1.848157e+12</td>\n",
       "      <td>1.720271e+13</td>\n",
       "      <td>2.441206e+12</td>\n",
       "      <td>3.778050e+11</td>\n",
       "    </tr>\n",
       "    <tr>\n",
       "      <th>65</th>\n",
       "      <td>2022-01-04</td>\n",
       "      <td>2.138759e+12</td>\n",
       "      <td>9.813597e+11</td>\n",
       "      <td>2.440942e+12</td>\n",
       "      <td>2.138759e+12</td>\n",
       "      <td>2.138759e+12</td>\n",
       "      <td>-4.083202e+11</td>\n",
       "      <td>-4.083202e+11</td>\n",
       "      <td>-4.083202e+11</td>\n",
       "      <td>-4.083202e+11</td>\n",
       "      <td>...</td>\n",
       "      <td>0.0</td>\n",
       "      <td>1.517165e+12</td>\n",
       "      <td>1.730439e+12</td>\n",
       "      <td>1.662988e+13</td>\n",
       "      <td>1.517165e+12</td>\n",
       "      <td>3.290201e+11</td>\n",
       "      <td>1.730439e+12</td>\n",
       "      <td>1.662988e+13</td>\n",
       "      <td>1.517165e+12</td>\n",
       "      <td>3.290201e+11</td>\n",
       "    </tr>\n",
       "  </tbody>\n",
       "</table>\n",
       "<p>66 rows × 54 columns</p>\n",
       "</div>"
      ],
      "text/plain": [
       "           ds       trend_x  yhat_lower_x  yhat_upper_x  trend_lower_x  \\\n",
       "0  1960-01-01 -1.932557e+11 -1.184685e+12  2.968395e+11  -1.932557e+11   \n",
       "1  1961-01-01 -1.556553e+11 -1.118219e+12  3.389100e+11  -1.556553e+11   \n",
       "2  1962-01-01 -1.181577e+11 -1.110803e+12  4.487353e+11  -1.181577e+11   \n",
       "3  1963-01-01 -8.066014e+10 -9.780212e+11  4.910986e+11  -8.066014e+10   \n",
       "4  1964-01-01 -4.316255e+10 -1.044154e+12  4.420064e+11  -4.316255e+10   \n",
       "..        ...           ...           ...           ...            ...   \n",
       "61 2021-01-01  2.100786e+12  1.139287e+12  2.667486e+12   2.100786e+12   \n",
       "62 2022-01-01  2.138450e+12  1.221923e+12  2.672652e+12   2.138450e+12   \n",
       "63 2022-01-02  2.138553e+12  1.127186e+12  2.595942e+12   2.138553e+12   \n",
       "64 2022-01-03  2.138656e+12  1.200681e+12  2.593168e+12   2.138656e+12   \n",
       "65 2022-01-04  2.138759e+12  9.813597e+11  2.440942e+12   2.138759e+12   \n",
       "\n",
       "    trend_upper_x  additive_terms_x  additive_terms_lower_x  \\\n",
       "0   -1.932557e+11     -2.428367e+11           -2.428367e+11   \n",
       "1   -1.556553e+11     -2.191989e+11           -2.191989e+11   \n",
       "2   -1.181577e+11     -2.234540e+11           -2.234540e+11   \n",
       "3   -8.066014e+10     -2.313368e+11           -2.313368e+11   \n",
       "4   -4.316255e+10     -2.428367e+11           -2.428367e+11   \n",
       "..            ...               ...                     ...   \n",
       "61   2.100786e+12     -2.191989e+11           -2.191989e+11   \n",
       "62   2.138450e+12     -2.234540e+11           -2.234540e+11   \n",
       "63   2.138553e+12     -2.282060e+11           -2.282060e+11   \n",
       "64   2.138656e+12     -2.904992e+11           -2.904992e+11   \n",
       "65   2.138759e+12     -4.083202e+11           -4.083202e+11   \n",
       "\n",
       "    additive_terms_upper_x      yearly_x  ...  multiplicative_terms_upper  \\\n",
       "0            -2.428367e+11 -2.428367e+11  ...                         0.0   \n",
       "1            -2.191989e+11 -2.191989e+11  ...                         0.0   \n",
       "2            -2.234540e+11 -2.234540e+11  ...                         0.0   \n",
       "3            -2.313368e+11 -2.313368e+11  ...                         0.0   \n",
       "4            -2.428367e+11 -2.428367e+11  ...                         0.0   \n",
       "..                     ...           ...  ...                         ...   \n",
       "61           -2.191989e+11 -2.191989e+11  ...                         0.0   \n",
       "62           -2.234540e+11 -2.234540e+11  ...                         0.0   \n",
       "63           -2.282060e+11 -2.282060e+11  ...                         0.0   \n",
       "64           -2.904992e+11 -2.904992e+11  ...                         0.0   \n",
       "65           -4.083202e+11 -4.083202e+11  ...                         0.0   \n",
       "\n",
       "    yhat_India_x  yhat_Brazil_y  yhat_China_y  yhat_India_y  \\\n",
       "0  -1.965793e+10  -4.360924e+11 -9.179820e+10 -1.965793e+10   \n",
       "1   1.208253e+10  -3.748542e+11  5.580406e+10  1.208253e+10   \n",
       "2   3.534899e+10  -3.416118e+11  4.052739e+10  3.534899e+10   \n",
       "3   3.510406e+10  -3.119969e+11  6.937007e+09  3.510406e+10   \n",
       "4   1.135310e+10  -2.859993e+11 -4.490459e+10  1.135310e+10   \n",
       "..           ...            ...           ...           ...   \n",
       "61  3.061760e+12   1.881587e+12  1.659845e+13  3.061760e+12   \n",
       "62  3.214782e+12   1.914996e+12  1.749305e+13  3.214782e+12   \n",
       "63  3.012576e+12   1.910347e+12  1.749351e+13  3.012576e+12   \n",
       "64  2.441206e+12   1.848157e+12  1.720271e+13  2.441206e+12   \n",
       "65  1.517165e+12   1.730439e+12  1.662988e+13  1.517165e+12   \n",
       "\n",
       "    yhat_South Africa_x   yhat_Brazil    yhat_China    yhat_India  \\\n",
       "0         -3.507863e+10 -4.360924e+11 -9.179820e+10 -1.965793e+10   \n",
       "1         -2.914906e+10 -3.748542e+11  5.580406e+10  1.208253e+10   \n",
       "2         -2.245776e+10 -3.416118e+11  4.052739e+10  3.534899e+10   \n",
       "3         -1.697949e+10 -3.119969e+11  6.937007e+09  3.510406e+10   \n",
       "4         -1.271442e+10 -2.859993e+11 -4.490459e+10  1.135310e+10   \n",
       "..                  ...           ...           ...           ...   \n",
       "61         4.099351e+11  1.881587e+12  1.659845e+13  3.061760e+12   \n",
       "62         4.200933e+11  1.914996e+12  1.749305e+13  3.214782e+12   \n",
       "63         4.084572e+11  1.910347e+12  1.749351e+13  3.012576e+12   \n",
       "64         3.778050e+11  1.848157e+12  1.720271e+13  2.441206e+12   \n",
       "65         3.290201e+11  1.730439e+12  1.662988e+13  1.517165e+12   \n",
       "\n",
       "    yhat_South Africa_y  \n",
       "0         -3.507863e+10  \n",
       "1         -2.914906e+10  \n",
       "2         -2.245776e+10  \n",
       "3         -1.697949e+10  \n",
       "4         -1.271442e+10  \n",
       "..                  ...  \n",
       "61         4.099351e+11  \n",
       "62         4.200933e+11  \n",
       "63         4.084572e+11  \n",
       "64         3.778050e+11  \n",
       "65         3.290201e+11  \n",
       "\n",
       "[66 rows x 54 columns]"
      ]
     },
     "execution_count": 102,
     "metadata": {},
     "output_type": "execute_result"
    }
   ],
   "source": [
    "target"
   ]
  },
  {
   "cell_type": "code",
   "execution_count": 103,
   "metadata": {},
   "outputs": [
    {
     "data": {
      "text/plain": [
       "Index(['ds', 'trend_x', 'yhat_lower_x', 'yhat_upper_x', 'trend_lower_x',\n",
       "       'trend_upper_x', 'additive_terms_x', 'additive_terms_lower_x',\n",
       "       'additive_terms_upper_x', 'yearly_x', 'yearly_lower_x',\n",
       "       'yearly_upper_x', 'multiplicative_terms_x',\n",
       "       'multiplicative_terms_lower_x', 'multiplicative_terms_upper_x',\n",
       "       'yhat_Brazil_x', 'trend_y', 'yhat_lower_y', 'yhat_upper_y',\n",
       "       'trend_lower_y', 'trend_upper_y', 'additive_terms_y',\n",
       "       'additive_terms_lower_y', 'additive_terms_upper_y', 'yearly_y',\n",
       "       'yearly_lower_y', 'yearly_upper_y', 'multiplicative_terms_y',\n",
       "       'multiplicative_terms_lower_y', 'multiplicative_terms_upper_y',\n",
       "       'yhat_China_x', 'trend', 'yhat_lower', 'yhat_upper', 'trend_lower',\n",
       "       'trend_upper', 'additive_terms', 'additive_terms_lower',\n",
       "       'additive_terms_upper', 'yearly', 'yearly_lower', 'yearly_upper',\n",
       "       'multiplicative_terms', 'multiplicative_terms_lower',\n",
       "       'multiplicative_terms_upper', 'yhat_India_x', 'yhat_Brazil_y',\n",
       "       'yhat_China_y', 'yhat_India_y', 'yhat_South Africa_x', 'yhat_Brazil',\n",
       "       'yhat_China', 'yhat_India', 'yhat_South Africa_y'],\n",
       "      dtype='object')"
      ]
     },
     "execution_count": 103,
     "metadata": {},
     "output_type": "execute_result"
    }
   ],
   "source": [
    "target.columns"
   ]
  },
  {
   "cell_type": "code",
   "execution_count": 104,
   "metadata": {
    "colab": {
     "base_uri": "https://localhost:8080/",
     "height": 321
    },
    "id": "4bWKmOw1jRla",
    "outputId": "fffdb11c-49c5-4e3b-cb2a-e8b4f95be240"
   },
   "outputs": [],
   "source": [
    "target_1 = target[['yhat_Brazil', 'yhat_China', 'yhat_India', 'yhat_South Africa_y']]"
   ]
  },
  {
   "cell_type": "code",
   "execution_count": 105,
   "metadata": {
    "id": "n3Kbu0twjRjA"
   },
   "outputs": [
    {
     "data": {
      "text/html": [
       "<div>\n",
       "<style scoped>\n",
       "    .dataframe tbody tr th:only-of-type {\n",
       "        vertical-align: middle;\n",
       "    }\n",
       "\n",
       "    .dataframe tbody tr th {\n",
       "        vertical-align: top;\n",
       "    }\n",
       "\n",
       "    .dataframe thead th {\n",
       "        text-align: right;\n",
       "    }\n",
       "</style>\n",
       "<table border=\"1\" class=\"dataframe\">\n",
       "  <thead>\n",
       "    <tr style=\"text-align: right;\">\n",
       "      <th></th>\n",
       "      <th>yhat_Brazil</th>\n",
       "      <th>yhat_China</th>\n",
       "      <th>yhat_India</th>\n",
       "      <th>yhat_South Africa_y</th>\n",
       "    </tr>\n",
       "  </thead>\n",
       "  <tbody>\n",
       "    <tr>\n",
       "      <th>0</th>\n",
       "      <td>-4.360924e+11</td>\n",
       "      <td>-9.179820e+10</td>\n",
       "      <td>-1.965793e+10</td>\n",
       "      <td>-3.507863e+10</td>\n",
       "    </tr>\n",
       "    <tr>\n",
       "      <th>1</th>\n",
       "      <td>-3.748542e+11</td>\n",
       "      <td>5.580406e+10</td>\n",
       "      <td>1.208253e+10</td>\n",
       "      <td>-2.914906e+10</td>\n",
       "    </tr>\n",
       "    <tr>\n",
       "      <th>2</th>\n",
       "      <td>-3.416118e+11</td>\n",
       "      <td>4.052739e+10</td>\n",
       "      <td>3.534899e+10</td>\n",
       "      <td>-2.245776e+10</td>\n",
       "    </tr>\n",
       "    <tr>\n",
       "      <th>3</th>\n",
       "      <td>-3.119969e+11</td>\n",
       "      <td>6.937007e+09</td>\n",
       "      <td>3.510406e+10</td>\n",
       "      <td>-1.697949e+10</td>\n",
       "    </tr>\n",
       "    <tr>\n",
       "      <th>4</th>\n",
       "      <td>-2.859993e+11</td>\n",
       "      <td>-4.490459e+10</td>\n",
       "      <td>1.135310e+10</td>\n",
       "      <td>-1.271442e+10</td>\n",
       "    </tr>\n",
       "    <tr>\n",
       "      <th>...</th>\n",
       "      <td>...</td>\n",
       "      <td>...</td>\n",
       "      <td>...</td>\n",
       "      <td>...</td>\n",
       "    </tr>\n",
       "    <tr>\n",
       "      <th>61</th>\n",
       "      <td>1.881587e+12</td>\n",
       "      <td>1.659845e+13</td>\n",
       "      <td>3.061760e+12</td>\n",
       "      <td>4.099351e+11</td>\n",
       "    </tr>\n",
       "    <tr>\n",
       "      <th>62</th>\n",
       "      <td>1.914996e+12</td>\n",
       "      <td>1.749305e+13</td>\n",
       "      <td>3.214782e+12</td>\n",
       "      <td>4.200933e+11</td>\n",
       "    </tr>\n",
       "    <tr>\n",
       "      <th>63</th>\n",
       "      <td>1.910347e+12</td>\n",
       "      <td>1.749351e+13</td>\n",
       "      <td>3.012576e+12</td>\n",
       "      <td>4.084572e+11</td>\n",
       "    </tr>\n",
       "    <tr>\n",
       "      <th>64</th>\n",
       "      <td>1.848157e+12</td>\n",
       "      <td>1.720271e+13</td>\n",
       "      <td>2.441206e+12</td>\n",
       "      <td>3.778050e+11</td>\n",
       "    </tr>\n",
       "    <tr>\n",
       "      <th>65</th>\n",
       "      <td>1.730439e+12</td>\n",
       "      <td>1.662988e+13</td>\n",
       "      <td>1.517165e+12</td>\n",
       "      <td>3.290201e+11</td>\n",
       "    </tr>\n",
       "  </tbody>\n",
       "</table>\n",
       "<p>66 rows × 4 columns</p>\n",
       "</div>"
      ],
      "text/plain": [
       "     yhat_Brazil    yhat_China    yhat_India  yhat_South Africa_y\n",
       "0  -4.360924e+11 -9.179820e+10 -1.965793e+10        -3.507863e+10\n",
       "1  -3.748542e+11  5.580406e+10  1.208253e+10        -2.914906e+10\n",
       "2  -3.416118e+11  4.052739e+10  3.534899e+10        -2.245776e+10\n",
       "3  -3.119969e+11  6.937007e+09  3.510406e+10        -1.697949e+10\n",
       "4  -2.859993e+11 -4.490459e+10  1.135310e+10        -1.271442e+10\n",
       "..           ...           ...           ...                  ...\n",
       "61  1.881587e+12  1.659845e+13  3.061760e+12         4.099351e+11\n",
       "62  1.914996e+12  1.749305e+13  3.214782e+12         4.200933e+11\n",
       "63  1.910347e+12  1.749351e+13  3.012576e+12         4.084572e+11\n",
       "64  1.848157e+12  1.720271e+13  2.441206e+12         3.778050e+11\n",
       "65  1.730439e+12  1.662988e+13  1.517165e+12         3.290201e+11\n",
       "\n",
       "[66 rows x 4 columns]"
      ]
     },
     "execution_count": 105,
     "metadata": {},
     "output_type": "execute_result"
    }
   ],
   "source": [
    "target_1"
   ]
  },
  {
   "cell_type": "code",
   "execution_count": 106,
   "metadata": {
    "id": "I3CVIYC2jRgw"
   },
   "outputs": [],
   "source": [
    "target_1.to_csv('target_1.csv', index = True, sep = '~')"
   ]
  },
  {
   "cell_type": "code",
   "execution_count": 109,
   "metadata": {
    "id": "l34u5BMJjRdq"
   },
   "outputs": [
    {
     "name": "stderr",
     "output_type": "stream",
     "text": [
      "Seasonality has period of 365.25 days which is larger than initial window. Consider increasing initial.\n"
     ]
    },
    {
     "data": {
      "application/vnd.jupyter.widget-view+json": {
       "model_id": "998b46148e8d49c7b0197841df1beae6",
       "version_major": 2,
       "version_minor": 0
      },
      "text/plain": [
       "  0%|          | 0/62 [00:00<?, ?it/s]"
      ]
     },
     "metadata": {},
     "output_type": "display_data"
    },
    {
     "ename": "Exception",
     "evalue": "Less than two datapoints before cutoff. Increase initial window.",
     "output_type": "error",
     "traceback": [
      "\u001b[1;31m---------------------------------------------------------------------------\u001b[0m",
      "\u001b[1;31mException\u001b[0m                                 Traceback (most recent call last)",
      "Cell \u001b[1;32mIn[109], line 2\u001b[0m\n\u001b[0;32m      1\u001b[0m \u001b[38;5;28;01mfrom\u001b[39;00m \u001b[38;5;21;01mprophet\u001b[39;00m\u001b[38;5;21;01m.\u001b[39;00m\u001b[38;5;21;01mdiagnostics\u001b[39;00m \u001b[38;5;28;01mimport\u001b[39;00m cross_validation\n\u001b[1;32m----> 2\u001b[0m df_cv \u001b[38;5;241m=\u001b[39m cross_validation(m, initial\u001b[38;5;241m=\u001b[39m\u001b[38;5;124m'\u001b[39m\u001b[38;5;124m65 days\u001b[39m\u001b[38;5;124m'\u001b[39m, period\u001b[38;5;241m=\u001b[39m\u001b[38;5;124m'\u001b[39m\u001b[38;5;124m2 days\u001b[39m\u001b[38;5;124m'\u001b[39m, horizon \u001b[38;5;241m=\u001b[39m \u001b[38;5;124m'\u001b[39m\u001b[38;5;124m5 days\u001b[39m\u001b[38;5;124m'\u001b[39m)\n",
      "File \u001b[1;32m~\\anaconda3\\Lib\\site-packages\\prophet\\diagnostics.py:206\u001b[0m, in \u001b[0;36mcross_validation\u001b[1;34m(model, horizon, period, initial, parallel, cutoffs, disable_tqdm, extra_output_columns)\u001b[0m\n\u001b[0;32m    203\u001b[0m         predicts \u001b[38;5;241m=\u001b[39m pool\u001b[38;5;241m.\u001b[39mgather(predicts)\n\u001b[0;32m    205\u001b[0m \u001b[38;5;28;01melse\u001b[39;00m:\n\u001b[1;32m--> 206\u001b[0m     predicts \u001b[38;5;241m=\u001b[39m [\n\u001b[0;32m    207\u001b[0m         single_cutoff_forecast(df, model, cutoff, horizon, predict_columns) \n\u001b[0;32m    208\u001b[0m         \u001b[38;5;28;01mfor\u001b[39;00m cutoff \u001b[38;5;129;01min\u001b[39;00m (tqdm(cutoffs) \u001b[38;5;28;01mif\u001b[39;00m \u001b[38;5;129;01mnot\u001b[39;00m disable_tqdm \u001b[38;5;28;01melse\u001b[39;00m cutoffs)\n\u001b[0;32m    209\u001b[0m     ]\n\u001b[0;32m    211\u001b[0m \u001b[38;5;66;03m# Combine all predicted pd.DataFrame into one pd.DataFrame\u001b[39;00m\n\u001b[0;32m    212\u001b[0m \u001b[38;5;28;01mreturn\u001b[39;00m pd\u001b[38;5;241m.\u001b[39mconcat(predicts, axis\u001b[38;5;241m=\u001b[39m\u001b[38;5;241m0\u001b[39m)\u001b[38;5;241m.\u001b[39mreset_index(drop\u001b[38;5;241m=\u001b[39m\u001b[38;5;28;01mTrue\u001b[39;00m)\n",
      "File \u001b[1;32m~\\anaconda3\\Lib\\site-packages\\prophet\\diagnostics.py:207\u001b[0m, in \u001b[0;36m<listcomp>\u001b[1;34m(.0)\u001b[0m\n\u001b[0;32m    203\u001b[0m         predicts \u001b[38;5;241m=\u001b[39m pool\u001b[38;5;241m.\u001b[39mgather(predicts)\n\u001b[0;32m    205\u001b[0m \u001b[38;5;28;01melse\u001b[39;00m:\n\u001b[0;32m    206\u001b[0m     predicts \u001b[38;5;241m=\u001b[39m [\n\u001b[1;32m--> 207\u001b[0m         single_cutoff_forecast(df, model, cutoff, horizon, predict_columns) \n\u001b[0;32m    208\u001b[0m         \u001b[38;5;28;01mfor\u001b[39;00m cutoff \u001b[38;5;129;01min\u001b[39;00m (tqdm(cutoffs) \u001b[38;5;28;01mif\u001b[39;00m \u001b[38;5;129;01mnot\u001b[39;00m disable_tqdm \u001b[38;5;28;01melse\u001b[39;00m cutoffs)\n\u001b[0;32m    209\u001b[0m     ]\n\u001b[0;32m    211\u001b[0m \u001b[38;5;66;03m# Combine all predicted pd.DataFrame into one pd.DataFrame\u001b[39;00m\n\u001b[0;32m    212\u001b[0m \u001b[38;5;28;01mreturn\u001b[39;00m pd\u001b[38;5;241m.\u001b[39mconcat(predicts, axis\u001b[38;5;241m=\u001b[39m\u001b[38;5;241m0\u001b[39m)\u001b[38;5;241m.\u001b[39mreset_index(drop\u001b[38;5;241m=\u001b[39m\u001b[38;5;28;01mTrue\u001b[39;00m)\n",
      "File \u001b[1;32m~\\anaconda3\\Lib\\site-packages\\prophet\\diagnostics.py:242\u001b[0m, in \u001b[0;36msingle_cutoff_forecast\u001b[1;34m(df, model, cutoff, horizon, predict_columns)\u001b[0m\n\u001b[0;32m    240\u001b[0m history_c \u001b[38;5;241m=\u001b[39m df[df[\u001b[38;5;124m'\u001b[39m\u001b[38;5;124mds\u001b[39m\u001b[38;5;124m'\u001b[39m] \u001b[38;5;241m<\u001b[39m\u001b[38;5;241m=\u001b[39m cutoff]\n\u001b[0;32m    241\u001b[0m \u001b[38;5;28;01mif\u001b[39;00m history_c\u001b[38;5;241m.\u001b[39mshape[\u001b[38;5;241m0\u001b[39m] \u001b[38;5;241m<\u001b[39m \u001b[38;5;241m2\u001b[39m:\n\u001b[1;32m--> 242\u001b[0m     \u001b[38;5;28;01mraise\u001b[39;00m \u001b[38;5;167;01mException\u001b[39;00m(\n\u001b[0;32m    243\u001b[0m         \u001b[38;5;124m'\u001b[39m\u001b[38;5;124mLess than two datapoints before cutoff. \u001b[39m\u001b[38;5;124m'\u001b[39m\n\u001b[0;32m    244\u001b[0m         \u001b[38;5;124m'\u001b[39m\u001b[38;5;124mIncrease initial window.\u001b[39m\u001b[38;5;124m'\u001b[39m\n\u001b[0;32m    245\u001b[0m     )\n\u001b[0;32m    246\u001b[0m m\u001b[38;5;241m.\u001b[39mfit(history_c, \u001b[38;5;241m*\u001b[39m\u001b[38;5;241m*\u001b[39mmodel\u001b[38;5;241m.\u001b[39mfit_kwargs)\n\u001b[0;32m    247\u001b[0m \u001b[38;5;66;03m# Calculate yhat\u001b[39;00m\n",
      "\u001b[1;31mException\u001b[0m: Less than two datapoints before cutoff. Increase initial window."
     ]
    }
   ],
   "source": [
    "from prophet.diagnostics import cross_validation\n",
    "df_cv = cross_validation(m, initial='65 days', period='2 days', horizon = '5 days')"
   ]
  },
  {
   "cell_type": "code",
   "execution_count": null,
   "metadata": {
    "id": "zf-B57VOjRXu"
   },
   "outputs": [],
   "source": [
    "df_cv.head()"
   ]
  },
  {
   "cell_type": "code",
   "execution_count": null,
   "metadata": {
    "id": "lIk0W2CejRMJ"
   },
   "outputs": [],
   "source": []
  },
  {
   "cell_type": "code",
   "execution_count": null,
   "metadata": {
    "id": "B94A4Ub-gK-Y"
   },
   "outputs": [],
   "source": [
    "for i in countries_1.groups:\n",
    "    group = countries_1.get_group(i)\n",
    "\n",
    "    # Assuming that 'ds' is the datetime column in your DataFrame\n",
    "    group['ds'] = pd.to_datetime(group['ds'])  # Convert 'ds' column to datetime if it's not already\n",
    "\n",
    "    m = Prophet(interval_width=0.95)\n",
    "    m.fit(group)\n",
    "    future = m.make_future_dataframe(periods=3)\n",
    "    forecast = m.predict(future)\n",
    "    m.plot(forecast)\n",
    "    forecast = forecast.rename(columns={'yhat': 'yhat_' + i})\n",
    "    target = pd.merge(target, forecast.set_index('ds'), how='outer', left_index=True, right_index=True)\n"
   ]
  },
  {
   "cell_type": "code",
   "execution_count": null,
   "metadata": {
    "id": "487CHAf-hig2"
   },
   "outputs": [],
   "source": [
    "# Hyper Parameter tuning"
   ]
  },
  {
   "cell_type": "code",
   "execution_count": null,
   "metadata": {
    "id": "HJyB0-Tmhid6"
   },
   "outputs": [],
   "source": [
    "import pandas as pd\n",
    "from fbprophet import Prophet\n",
    "from sklearn.model_selection import GridSearchCV\n",
    "from fbprophet.diagnostics import cross_validation\n",
    "\n",
    "# Load your time series data into a DataFrame\n",
    "# Assuming your data has 'ds' and 'y' columns representing dates and target values\n",
    "\n",
    "# Create a parameter grid for hyperparameter tuning\n",
    "param_grid = {\n",
    "    'changepoint_prior_scale': [0.001, 0.01, 0.1, 0.5, 1.0],\n",
    "    'seasonality_prior_scale': [0.01, 0.1, 1.0, 10.0],\n",
    "    'holidays_prior_scale': [0.01, 0.1, 1.0, 10.0],\n",
    "}\n",
    "\n",
    "# Initialize the Prophet model\n",
    "model = Prophet()\n",
    "\n",
    "# Create a GridSearchCV object\n",
    "grid_search = GridSearchCV(model, param_grid, cv=5, scoring='neg_mean_squared_error')\n",
    "\n",
    "# Fit the model to your data while performing hyperparameter tuning\n",
    "grid_search.fit(your_data_frame)\n",
    "\n",
    "# Print the best hyperparameters\n",
    "print(\"Best Hyperparameters:\", grid_search.best_params_)\n",
    "\n",
    "# Get the best model with the optimal hyperparameters\n",
    "best_model = grid_search.best_estimator_\n",
    "\n",
    "# Perform cross-validation to evaluate the model\n",
    "df_cv = cross_validation(best_model, initial='365 days', period='180 days', horizon='365 days')\n"
   ]
  },
  {
   "cell_type": "code",
   "execution_count": null,
   "metadata": {
    "id": "qcdwyYSJhibE"
   },
   "outputs": [],
   "source": []
  },
  {
   "cell_type": "code",
   "execution_count": null,
   "metadata": {
    "id": "bF5rV1_7hiYd"
   },
   "outputs": [],
   "source": []
  },
  {
   "cell_type": "code",
   "execution_count": null,
   "metadata": {
    "id": "tT43IyhIhiWO"
   },
   "outputs": [],
   "source": []
  },
  {
   "cell_type": "code",
   "execution_count": null,
   "metadata": {
    "id": "p4ccbaxFhiTS"
   },
   "outputs": [],
   "source": []
  },
  {
   "cell_type": "code",
   "execution_count": null,
   "metadata": {
    "id": "HumP8Q82hiQn"
   },
   "outputs": [],
   "source": []
  },
  {
   "cell_type": "code",
   "execution_count": null,
   "metadata": {
    "id": "qR2VKpY1hiNp"
   },
   "outputs": [],
   "source": []
  },
  {
   "cell_type": "code",
   "execution_count": null,
   "metadata": {
    "id": "eEDR3Yuphhzo"
   },
   "outputs": [],
   "source": []
  },
  {
   "cell_type": "code",
   "execution_count": null,
   "metadata": {
    "id": "g2i_NfOC0wo-"
   },
   "outputs": [],
   "source": [
    "## Best model with HyperParameter Tunned"
   ]
  },
  {
   "cell_type": "code",
   "execution_count": null,
   "metadata": {
    "colab": {
     "base_uri": "https://localhost:8080/",
     "height": 676
    },
    "id": "6U_ROqul9t_g",
    "outputId": "a0714aa8-4430-477f-a4c0-6f88b27b8184"
   },
   "outputs": [],
   "source": [
    "countries_2 = time_4.groupby('country')\n",
    "countries_2.head()"
   ]
  },
  {
   "cell_type": "code",
   "execution_count": null,
   "metadata": {
    "colab": {
     "base_uri": "https://localhost:8080/"
    },
    "id": "b0HZ4RoX-OwI",
    "outputId": "6a2be659-b72d-4808-db91-02b66f7d568c"
   },
   "outputs": [],
   "source": [
    "print(countries_2)"
   ]
  },
  {
   "cell_type": "code",
   "execution_count": null,
   "metadata": {
    "colab": {
     "base_uri": "https://localhost:8080/"
    },
    "id": "OLjLtZCp-a6p",
    "outputId": "21fa965d-f81f-4a11-a865-ae963cab2d60"
   },
   "outputs": [],
   "source": [
    "for i in countries_2.groups:\n",
    "  group_1 = countries_2.get_group(i)\n",
    "  train_1 = group_1[(group_1['ds']  >= '1960-01-01') & ((group_1['ds']  <= '2019-01-01'))]\n",
    "  test_1 = group_1[(group_1['ds'] > '2019-01-01')]\n",
    "  print(test_1.shape)"
   ]
  },
  {
   "cell_type": "code",
   "execution_count": null,
   "metadata": {
    "id": "34sijvdp-9Sc"
   },
   "outputs": [],
   "source": [
    "target_1 = pd.DataFrame()"
   ]
  },
  {
   "cell_type": "code",
   "execution_count": null,
   "metadata": {
    "id": "ENxrFmh2_Gw1"
   },
   "outputs": [],
   "source": []
  }
 ],
 "metadata": {
  "colab": {
   "provenance": []
  },
  "kernelspec": {
   "display_name": "Python 3 (ipykernel)",
   "language": "python",
   "name": "python3"
  },
  "language_info": {
   "codemirror_mode": {
    "name": "ipython",
    "version": 3
   },
   "file_extension": ".py",
   "mimetype": "text/x-python",
   "name": "python",
   "nbconvert_exporter": "python",
   "pygments_lexer": "ipython3",
   "version": "3.11.5"
  }
 },
 "nbformat": 4,
 "nbformat_minor": 1
}
